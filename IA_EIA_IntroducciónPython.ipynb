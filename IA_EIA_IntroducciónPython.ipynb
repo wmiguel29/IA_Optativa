{
  "nbformat": 4,
  "nbformat_minor": 0,
  "metadata": {
    "colab": {
      "name": "IA_EIA_IntroducciónPython",
      "provenance": [],
      "collapsed_sections": [],
      "include_colab_link": true
    },
    "kernelspec": {
      "name": "python3",
      "display_name": "Python 3"
    }
  },
  "cells": [
    {
      "cell_type": "markdown",
      "metadata": {
        "id": "view-in-github",
        "colab_type": "text"
      },
      "source": [
        "<a href=\"https://colab.research.google.com/github/wmiguel29/IA_Optativa/blob/main/IA_EIA_Introducci%C3%B3nPython.ipynb\" target=\"_parent\"><img src=\"https://colab.research.google.com/assets/colab-badge.svg\" alt=\"Open In Colab\"/></a>"
      ]
    },
    {
      "cell_type": "markdown",
      "metadata": {
        "id": "Mir2OAlTnWIY"
      },
      "source": [
        "# Introducción a Python\n",
        "Python, a diferencia de otros lenguajes, no necesita definir los tipos de datos de las variables que usamos, lo cual, aunque a veces parece fácil, puede tender a cometer muchos errores, por lo que es bueno tenerlo en cuenta siempre.\n",
        "A continuación, más que una introducción, es un pequeño resumen de las intrucciones y formas de manejar datos en Python, suponiendo que conoce otros lenguajes de programación."
      ]
    },
    {
      "cell_type": "markdown",
      "metadata": {
        "id": "1QDryzWBncfw"
      },
      "source": [
        "## Tipos de datos contenedores"
      ]
    },
    {
      "cell_type": "markdown",
      "metadata": {
        "id": "xs_xjfSyDaCz"
      },
      "source": [
        "### Listas (Arreglos)"
      ]
    },
    {
      "cell_type": "code",
      "metadata": {
        "id": "5_O1-wRrcMvz"
      },
      "source": [
        "arr=[] # Inicialización de un arreglo vacío\n",
        "arr2=[2,4,5,20,3] # Arreglo de 5 elementos\n",
        "arr3=['hola',3,8.3] # Arreglo de elementos diversos"
      ],
      "execution_count": null,
      "outputs": []
    },
    {
      "cell_type": "code",
      "metadata": {
        "colab": {
          "base_uri": "https://localhost:8080/"
        },
        "id": "SKJsTe5Kz3Ks",
        "outputId": "7bc60539-7d10-4168-a7c7-6b3c6e2135a8"
      },
      "source": [
        "arr3"
      ],
      "execution_count": null,
      "outputs": [
        {
          "output_type": "execute_result",
          "data": {
            "text/plain": [
              "['hola', 3, 8.3]"
            ]
          },
          "metadata": {
            "tags": []
          },
          "execution_count": 5
        }
      ]
    },
    {
      "cell_type": "code",
      "metadata": {
        "id": "j44fapZ8onVv",
        "colab": {
          "base_uri": "https://localhost:8080/"
        },
        "outputId": "06a04722-1f98-4a18-b220-029b6339f2a2"
      },
      "source": [
        "arr3.append(4) # Adicionar un elemento a arr3\n",
        "arr3"
      ],
      "execution_count": null,
      "outputs": [
        {
          "output_type": "execute_result",
          "data": {
            "text/plain": [
              "['hola', 3, 8.3, 4]"
            ]
          },
          "metadata": {
            "tags": []
          },
          "execution_count": 6
        }
      ]
    },
    {
      "cell_type": "code",
      "metadata": {
        "id": "pP7k7dIdpCVu",
        "colab": {
          "base_uri": "https://localhost:8080/"
        },
        "outputId": "200cbbb6-4704-435f-f048-32489f5e8077"
      },
      "source": [
        "arr4=arr3 # Apuntan a la misma dirección de memoria\n",
        "print(arr4)\n",
        "arr4.append('ya')\n",
        "print(arr4)\n",
        "arr3"
      ],
      "execution_count": null,
      "outputs": [
        {
          "output_type": "stream",
          "text": [
            "['hola', 3, 8.3, 4, 'ya', 10]\n",
            "['hola', 3, 8.3, 4, 'ya', 10, 'ya']\n"
          ],
          "name": "stdout"
        },
        {
          "output_type": "execute_result",
          "data": {
            "text/plain": [
              "['hola', 3, 8.3, 4, 'ya', 10, 'ya']"
            ]
          },
          "metadata": {
            "tags": []
          },
          "execution_count": 9
        }
      ]
    },
    {
      "cell_type": "code",
      "metadata": {
        "id": "PFDjB83Ht9Sh",
        "colab": {
          "base_uri": "https://localhost:8080/"
        },
        "outputId": "e81edfb2-279c-43ff-bd45-7d120005d597"
      },
      "source": [
        "arr5=arr4.copy()\n",
        "arr4.append(10)\n",
        "print(arr4)\n",
        "arr5"
      ],
      "execution_count": null,
      "outputs": [
        {
          "output_type": "stream",
          "text": [
            "['hola', 3, 8.3, 4, 'ya', 10, 'ya', 10]\n"
          ],
          "name": "stdout"
        },
        {
          "output_type": "execute_result",
          "data": {
            "text/plain": [
              "['hola', 3, 8.3, 4, 'ya', 10, 'ya']"
            ]
          },
          "metadata": {
            "tags": []
          },
          "execution_count": 10
        }
      ]
    },
    {
      "cell_type": "markdown",
      "metadata": {
        "id": "TZZAcIGFuSsb"
      },
      "source": [
        "Los arreglos pueden servir como estructuras Pila (Stack), ya que tienen un método pop para extraer el último elemento."
      ]
    },
    {
      "cell_type": "code",
      "metadata": {
        "id": "PyvnWA3AuQ7g",
        "colab": {
          "base_uri": "https://localhost:8080/"
        },
        "outputId": "f4ad0204-06ac-4bbc-eec9-1ffc8763d5a3"
      },
      "source": [
        "arr4.pop()"
      ],
      "execution_count": null,
      "outputs": [
        {
          "output_type": "execute_result",
          "data": {
            "text/plain": [
              "10"
            ]
          },
          "metadata": {
            "tags": []
          },
          "execution_count": 11
        }
      ]
    },
    {
      "cell_type": "code",
      "metadata": {
        "colab": {
          "base_uri": "https://localhost:8080/"
        },
        "id": "npaKFSxA2F8V",
        "outputId": "d752ace9-3dcc-4854-f68c-17c0a398f106"
      },
      "source": [
        "arr4"
      ],
      "execution_count": null,
      "outputs": [
        {
          "output_type": "execute_result",
          "data": {
            "text/plain": [
              "['hola', 3, 8.3, 4, 'ya', 10, 'ya']"
            ]
          },
          "metadata": {
            "tags": []
          },
          "execution_count": 12
        }
      ]
    },
    {
      "cell_type": "code",
      "metadata": {
        "id": "980iOZnw5WIB",
        "colab": {
          "base_uri": "https://localhost:8080/"
        },
        "outputId": "c83adb62-5d5d-4e7d-9e9e-005058259eda"
      },
      "source": [
        "arr6=range(10)\n",
        "for a in range(5):\n",
        "  print(a)"
      ],
      "execution_count": null,
      "outputs": [
        {
          "output_type": "stream",
          "text": [
            "0\n",
            "1\n",
            "2\n",
            "3\n",
            "4\n"
          ],
          "name": "stdout"
        }
      ]
    },
    {
      "cell_type": "markdown",
      "metadata": {
        "id": "gN2w1A7gDHkJ"
      },
      "source": [
        "#### Matrices"
      ]
    },
    {
      "cell_type": "code",
      "metadata": {
        "id": "FdXER3dvDEnJ",
        "colab": {
          "base_uri": "https://localhost:8080/"
        },
        "outputId": "5cb28778-ba58-45bf-c12c-c8eec931217b"
      },
      "source": [
        "arr7=[[1, 2, 3], [4, 5, 6]]\n",
        "print(arr7)"
      ],
      "execution_count": null,
      "outputs": [
        {
          "output_type": "stream",
          "text": [
            "[[1, 2, 3], [4, 5, 6]]\n"
          ],
          "name": "stdout"
        }
      ]
    },
    {
      "cell_type": "code",
      "metadata": {
        "id": "npACbuVwKCU0",
        "colab": {
          "base_uri": "https://localhost:8080/",
          "height": 70
        },
        "outputId": "f401b4ff-b015-4953-ad7c-8ebc087ffac6"
      },
      "source": [
        "print(arr7[0])\n",
        "print(arr7[1]) # fila 1, todas las columnas\n",
        "print(arr7[1][-1]) # último elemento de la fila 1"
      ],
      "execution_count": null,
      "outputs": [
        {
          "output_type": "stream",
          "text": [
            "[1, 2, 3]\n",
            "[4, 5, 6]\n",
            "6\n"
          ],
          "name": "stdout"
        }
      ]
    },
    {
      "cell_type": "code",
      "metadata": {
        "id": "Dm7Yp7gcRtm5",
        "colab": {
          "base_uri": "https://localhost:8080/"
        },
        "outputId": "80e62e15-616a-4f12-d8f2-437f07719dd2"
      },
      "source": [
        "print(len(arr7))\n",
        "print(len(arr7[1]))"
      ],
      "execution_count": null,
      "outputs": [
        {
          "output_type": "stream",
          "text": [
            "2\n",
            "3\n"
          ],
          "name": "stdout"
        }
      ]
    },
    {
      "cell_type": "markdown",
      "metadata": {
        "id": "LgLvuVaEuQNx"
      },
      "source": [
        "### Numpy\n",
        "\n",
        "Numpy es una biblioteca que permite un tipo de dato lista que tiene más funciones y facilidades que los arreglos clásicos."
      ]
    },
    {
      "cell_type": "code",
      "metadata": {
        "id": "em9o8-n6uxwX"
      },
      "source": [
        "# Importar biblioteca numpy\n",
        "import numpy as np"
      ],
      "execution_count": null,
      "outputs": []
    },
    {
      "cell_type": "code",
      "metadata": {
        "id": "A4ZWJClwu4n3",
        "colab": {
          "base_uri": "https://localhost:8080/"
        },
        "outputId": "99b58f52-fcd1-4df7-80bd-a56005c0c4ce"
      },
      "source": [
        "narr=np.array([])# Crear un numpy vacío\n",
        "narr=np.append(narr,3)\n",
        "narr"
      ],
      "execution_count": null,
      "outputs": [
        {
          "output_type": "execute_result",
          "data": {
            "text/plain": [
              "array([3.])"
            ]
          },
          "metadata": {
            "tags": []
          },
          "execution_count": 21
        }
      ]
    },
    {
      "cell_type": "code",
      "metadata": {
        "id": "DagJV7EovHE-",
        "colab": {
          "base_uri": "https://localhost:8080/",
          "height": 34
        },
        "outputId": "1fc508cb-55c7-410a-ae8a-6964f0acad0f"
      },
      "source": [
        "narr=np.append(narr,'ya')# Los elementos del numpy, por defecto son del mismo tipo, si hacemos esto cambiamos el primer tipo de dato\n",
        "narr"
      ],
      "execution_count": null,
      "outputs": [
        {
          "output_type": "execute_result",
          "data": {
            "text/plain": [
              "array(['3.0', 'ya'], dtype='<U32')"
            ]
          },
          "metadata": {
            "tags": []
          },
          "execution_count": 22
        }
      ]
    },
    {
      "cell_type": "code",
      "metadata": {
        "id": "inngwZ-mvr3W",
        "colab": {
          "base_uri": "https://localhost:8080/",
          "height": 52
        },
        "outputId": "20f51304-cffa-423d-e292-91c3483658da"
      },
      "source": [
        "narr1=np.array(['ya',1, 2.3])\n",
        "print(narr1.dtype)\n",
        "narr1"
      ],
      "execution_count": null,
      "outputs": [
        {
          "output_type": "stream",
          "text": [
            "<U3\n"
          ],
          "name": "stdout"
        },
        {
          "output_type": "execute_result",
          "data": {
            "text/plain": [
              "array(['ya', '1', '2.3'], dtype='<U3')"
            ]
          },
          "metadata": {
            "tags": []
          },
          "execution_count": 117
        }
      ]
    },
    {
      "cell_type": "code",
      "metadata": {
        "id": "5diA1T17yhoY",
        "colab": {
          "base_uri": "https://localhost:8080/",
          "height": 52
        },
        "outputId": "78748928-005f-4ffa-bce0-63db3e256a4b"
      },
      "source": [
        "narrFloat = np.array([],dtype='float64') \n",
        "narrFloat = np.append(narrFloat,8.5)\n",
        "print(narrFloat.dtype) \n",
        "narrFloat = np.append(narrFloat,'ya')\n",
        "print(narrFloat.dtype)"
      ],
      "execution_count": null,
      "outputs": [
        {
          "output_type": "stream",
          "text": [
            "float64\n",
            "<U32\n"
          ],
          "name": "stdout"
        }
      ]
    },
    {
      "cell_type": "code",
      "metadata": {
        "id": "tSAxUFBjKdAs",
        "colab": {
          "base_uri": "https://localhost:8080/"
        },
        "outputId": "c645b7a0-e300-411f-dbe5-f9fd88b2e919"
      },
      "source": [
        "narray5=np.array([[1, 2, 3], [4, 5, 6]])\n",
        "narray5"
      ],
      "execution_count": null,
      "outputs": [
        {
          "output_type": "execute_result",
          "data": {
            "text/plain": [
              "array([[1, 2, 3],\n",
              "       [4, 5, 6]])"
            ]
          },
          "metadata": {
            "tags": []
          },
          "execution_count": 27
        }
      ]
    },
    {
      "cell_type": "code",
      "metadata": {
        "id": "WGfAMX5CXOlj",
        "colab": {
          "base_uri": "https://localhost:8080/"
        },
        "outputId": "e80a0af1-c411-4a89-9f61-14cf12b897da"
      },
      "source": [
        "narray5=np.append(narray5,np.array([[7],[8]]),axis=1) # adición por columnas\n",
        "narray5"
      ],
      "execution_count": null,
      "outputs": [
        {
          "output_type": "execute_result",
          "data": {
            "text/plain": [
              "array([[1, 2, 3, 7],\n",
              "       [4, 5, 6, 8]])"
            ]
          },
          "metadata": {
            "tags": []
          },
          "execution_count": 28
        }
      ]
    },
    {
      "cell_type": "code",
      "metadata": {
        "id": "LfbT65MvT_Lm",
        "colab": {
          "base_uri": "https://localhost:8080/"
        },
        "outputId": "fe28d0b2-7f18-48e2-c476-8f5baf38800f"
      },
      "source": [
        "narray5=np.append(narray5,[[9,10,11,12]],axis=0) # adición por filas\n",
        "narray5"
      ],
      "execution_count": null,
      "outputs": [
        {
          "output_type": "execute_result",
          "data": {
            "text/plain": [
              "array([[ 1,  2,  3,  7],\n",
              "       [ 4,  5,  6,  8],\n",
              "       [ 9, 10, 11, 12]])"
            ]
          },
          "metadata": {
            "tags": []
          },
          "execution_count": 29
        }
      ]
    },
    {
      "cell_type": "code",
      "metadata": {
        "id": "dmjyIMMZRpnQ",
        "colab": {
          "base_uri": "https://localhost:8080/"
        },
        "outputId": "f7f41af8-ea00-4305-8608-842295dce91b"
      },
      "source": [
        "print(narray5.shape)"
      ],
      "execution_count": null,
      "outputs": [
        {
          "output_type": "stream",
          "text": [
            "(3, 4)\n"
          ],
          "name": "stdout"
        }
      ]
    },
    {
      "cell_type": "code",
      "metadata": {
        "id": "zEzP4cX5KfTQ",
        "colab": {
          "base_uri": "https://localhost:8080/",
          "height": 101
        },
        "outputId": "813d52c6-8a66-429b-a674-b75060e5907d"
      },
      "source": [
        "print(narray5[:,2]) # columna 2, todas las filas\n",
        "print(narray5[1,:]) # fila 1, todas las columnas\n",
        "print(narray5[1,-1]) # último elemento de la fila 1\n",
        "print(narray5[:2, 1:3]) # Primeras dos filas y columna de la 1 a la 3-1=2"
      ],
      "execution_count": null,
      "outputs": [
        {
          "output_type": "stream",
          "text": [
            "[ 3  6 11]\n",
            "[4 5 6 8]\n",
            "8\n",
            "[[2 3]\n",
            " [5 6]]\n"
          ],
          "name": "stdout"
        }
      ]
    },
    {
      "cell_type": "code",
      "metadata": {
        "id": "JaPRaeMtRP2G",
        "colab": {
          "base_uri": "https://localhost:8080/",
          "height": 50
        },
        "outputId": "4b5b0b1d-5781-414e-e5c9-09a823a18d04"
      },
      "source": [
        "npRandom=np.random.random((2,2))\n",
        "npRandom"
      ],
      "execution_count": null,
      "outputs": [
        {
          "output_type": "execute_result",
          "data": {
            "text/plain": [
              "array([[0.55083009, 0.67038974],\n",
              "       [0.5974226 , 0.99716291]])"
            ]
          },
          "metadata": {
            "tags": []
          },
          "execution_count": 124
        }
      ]
    },
    {
      "cell_type": "code",
      "metadata": {
        "id": "aX6QkvS_L72F",
        "colab": {
          "base_uri": "https://localhost:8080/",
          "height": 84
        },
        "outputId": "9cfc8898-7891-4022-fb4e-94c5e7e19333"
      },
      "source": [
        "nzeros=np.zeros((2,2)) # Crear matriz inicializada en cero\n",
        "print(nzeros)\n",
        "nones=np.ones((2,3)) # Crear matriz inicializada en unos\n",
        "print(nones)"
      ],
      "execution_count": null,
      "outputs": [
        {
          "output_type": "stream",
          "text": [
            "[[0. 0.]\n",
            " [0. 0.]]\n",
            "[[1. 1. 1.]\n",
            " [1. 1. 1.]]\n"
          ],
          "name": "stdout"
        }
      ]
    },
    {
      "cell_type": "code",
      "metadata": {
        "id": "9u2AHLAV2IIC",
        "colab": {
          "base_uri": "https://localhost:8080/",
          "height": 34
        },
        "outputId": "4997b681-332e-49b2-eaa8-219840c8a9af"
      },
      "source": [
        "narray2=np.arange(10) # Crear arreglo con números del 0 al 9\n",
        "narray2"
      ],
      "execution_count": null,
      "outputs": [
        {
          "output_type": "execute_result",
          "data": {
            "text/plain": [
              "array([0, 1, 2, 3, 4, 5, 6, 7, 8, 9])"
            ]
          },
          "metadata": {
            "tags": []
          },
          "execution_count": 126
        }
      ]
    },
    {
      "cell_type": "code",
      "metadata": {
        "id": "l6gN6OUT6FLU",
        "colab": {
          "base_uri": "https://localhost:8080/",
          "height": 70
        },
        "outputId": "00c9ee64-2fe6-47fc-8705-571773e4b6a5"
      },
      "source": [
        "narray4=np.full(5,4) # Crear arreglo de tamaño 5 inicializada en 4\n",
        "print(narray4)\n",
        "narray3=np.full((2, 5), 8) # crear matriz de 2x5 inicializada en 8\n",
        "narray3"
      ],
      "execution_count": null,
      "outputs": [
        {
          "output_type": "stream",
          "text": [
            "[4 4 4 4 4]\n"
          ],
          "name": "stdout"
        },
        {
          "output_type": "execute_result",
          "data": {
            "text/plain": [
              "array([[8, 8, 8, 8, 8],\n",
              "       [8, 8, 8, 8, 8]])"
            ]
          },
          "metadata": {
            "tags": []
          },
          "execution_count": 127
        }
      ]
    },
    {
      "cell_type": "code",
      "metadata": {
        "id": "P1CIyLAJ6grL",
        "colab": {
          "base_uri": "https://localhost:8080/",
          "height": 34
        },
        "outputId": "6631c5d2-edd3-4266-e511-41ce7de83a2b"
      },
      "source": [
        "a=np.empty(5, dtype=int)# crear arreglo 'vacío' de tamaño 5\n",
        "a.fill(2) # rellenarlo con 2\n",
        "print(a)"
      ],
      "execution_count": null,
      "outputs": [
        {
          "output_type": "stream",
          "text": [
            "[2 2 2 2 2]\n"
          ],
          "name": "stdout"
        }
      ]
    },
    {
      "cell_type": "markdown",
      "metadata": {
        "id": "_KucenJt2J5R"
      },
      "source": [
        "#### Métodos interesantes de Numpy"
      ]
    },
    {
      "cell_type": "markdown",
      "metadata": {
        "id": "-Dlt9SVdaKWP"
      },
      "source": [
        "Para ver cuáles elementos cumplen con una condición en un numpy:\n",
        "Por ejemplo los elementos que son pares en narray5"
      ]
    },
    {
      "cell_type": "code",
      "metadata": {
        "id": "v1vIGX8FRbbA",
        "colab": {
          "base_uri": "https://localhost:8080/"
        },
        "outputId": "8a0936e7-9185-4bbb-c7b5-ed2f436d66d4"
      },
      "source": [
        "print(narray5)"
      ],
      "execution_count": null,
      "outputs": [
        {
          "output_type": "stream",
          "text": [
            "[[ 1  2  3  7]\n",
            " [ 4  5  6  8]\n",
            " [ 9 10 11 12]]\n"
          ],
          "name": "stdout"
        }
      ]
    },
    {
      "cell_type": "code",
      "metadata": {
        "id": "QkV70nzeaeFh",
        "colab": {
          "base_uri": "https://localhost:8080/",
          "height": 70
        },
        "outputId": "6c529b4a-59e7-4cdd-a5a3-6c3c9664be2b"
      },
      "source": [
        "#Condición booleana\n",
        "cond= narray5%2==0\n",
        "cond"
      ],
      "execution_count": null,
      "outputs": [
        {
          "output_type": "execute_result",
          "data": {
            "text/plain": [
              "array([[False,  True, False, False],\n",
              "       [ True, False,  True,  True],\n",
              "       [False,  True, False,  True]])"
            ]
          },
          "metadata": {
            "tags": []
          },
          "execution_count": 129
        }
      ]
    },
    {
      "cell_type": "code",
      "metadata": {
        "id": "2oDF1g9Xa6Hr",
        "colab": {
          "base_uri": "https://localhost:8080/",
          "height": 34
        },
        "outputId": "2c523f8d-b4a8-490c-adbc-098f3c300a18"
      },
      "source": [
        "narray5[cond]"
      ],
      "execution_count": null,
      "outputs": [
        {
          "output_type": "execute_result",
          "data": {
            "text/plain": [
              "array([ 2,  4,  6,  8, 10, 12])"
            ]
          },
          "metadata": {
            "tags": []
          },
          "execution_count": 130
        }
      ]
    },
    {
      "cell_type": "markdown",
      "metadata": {
        "id": "cMb58-OcbD0k"
      },
      "source": [
        "Ver índices que cumplen con una condición, para eso está la función **where** o **argwhere**"
      ]
    },
    {
      "cell_type": "code",
      "metadata": {
        "id": "IF0tD8bObDI6",
        "colab": {
          "base_uri": "https://localhost:8080/",
          "height": 176
        },
        "outputId": "17457e3b-1e1a-4502-a3f1-26a35ad6b96a"
      },
      "source": [
        "indexCond=np.where(narray5%2==0)\n",
        "print(indexCond)\n",
        "print(narray5[indexCond])\n",
        "print(np.argwhere(narray5%2==0))\n",
        "[narray5[r,c] for [r,c] in np.argwhere(narray5%2==0)] # Creación de un arreglo a partir de un resultado de un for each"
      ],
      "execution_count": null,
      "outputs": [
        {
          "output_type": "stream",
          "text": [
            "(array([0, 1, 1, 1, 2, 2]), array([1, 0, 2, 3, 1, 3]))\n",
            "[ 2  4  6  8 10 12]\n",
            "[[0 1]\n",
            " [1 0]\n",
            " [1 2]\n",
            " [1 3]\n",
            " [2 1]\n",
            " [2 3]]\n"
          ],
          "name": "stdout"
        },
        {
          "output_type": "execute_result",
          "data": {
            "text/plain": [
              "[2, 4, 6, 8, 10, 12]"
            ]
          },
          "metadata": {
            "tags": []
          },
          "execution_count": 131
        }
      ]
    },
    {
      "cell_type": "markdown",
      "metadata": {
        "id": "VPGRkRWjjI-a"
      },
      "source": [
        "**argmax**: devuelve el índice del mayor elemento, puede calcularse en el arreglo completo o si es una matriz puede especificarse el eje: fila o columna"
      ]
    },
    {
      "cell_type": "code",
      "metadata": {
        "id": "GsiKNWL9itfb",
        "colab": {
          "base_uri": "https://localhost:8080/",
          "height": 105
        },
        "outputId": "5626e347-a442-466b-b9a9-a2907a5a287b"
      },
      "source": [
        "narray8=np.round(np.random.random((3,5))*100)\n",
        "print(narray8)\n",
        "print(np.argmax(narray8,axis=0)) # Índice del máximo elemento por columna\n",
        "print(np.argmax(narray8,axis=1)) # Índice del máximo elemento por fila\n",
        "\n",
        "np.argmax"
      ],
      "execution_count": null,
      "outputs": [
        {
          "output_type": "stream",
          "text": [
            "[[67. 36. 67. 44. 22.]\n",
            " [15. 21. 34. 98. 93.]\n",
            " [12. 62. 72. 80.  3.]]\n",
            "[0 2 2 1 1]\n",
            "[0 3 3]\n"
          ],
          "name": "stdout"
        }
      ]
    },
    {
      "cell_type": "markdown",
      "metadata": {
        "id": "FzVzdFUkmRnK"
      },
      "source": [
        "Si necesito saber más de uno, por ejemplo que el máximo se repita"
      ]
    },
    {
      "cell_type": "code",
      "metadata": {
        "id": "2KtEHvGumQQn",
        "colab": {
          "base_uri": "https://localhost:8080/",
          "height": 52
        },
        "outputId": "66976a24-e01c-4f98-f4f4-f0aa9008a835"
      },
      "source": [
        "ejarray=np.array([3, 12, 2, 6,12,8])\n",
        "print(np.argmax(ejarray)) # Devuelve el primero\n",
        "indexAllMax=np.where(ejarray == np.amax(ejarray))\n",
        "print(indexAllMax)"
      ],
      "execution_count": null,
      "outputs": [
        {
          "output_type": "stream",
          "text": [
            "1\n",
            "(array([1, 4]),)\n"
          ],
          "name": "stdout"
        }
      ]
    },
    {
      "cell_type": "markdown",
      "metadata": {
        "id": "5OnZFXA5Kscp"
      },
      "source": [
        "### Tuplas"
      ]
    },
    {
      "cell_type": "code",
      "metadata": {
        "id": "bllPYGdkK0hi",
        "colab": {
          "base_uri": "https://localhost:8080/",
          "height": 34
        },
        "outputId": "d99f0754-d760-4bbf-8941-a2786c295f34"
      },
      "source": [
        "t = (3, 6)  # Crear una tupla con valores 3 y 6\n",
        "print(t[0])"
      ],
      "execution_count": null,
      "outputs": [
        {
          "output_type": "stream",
          "text": [
            "3\n"
          ],
          "name": "stdout"
        }
      ]
    },
    {
      "cell_type": "markdown",
      "metadata": {
        "id": "KiPjGNOIcyMv"
      },
      "source": [
        "Array de tuplas"
      ]
    },
    {
      "cell_type": "code",
      "metadata": {
        "id": "BolquusScxO7",
        "colab": {
          "base_uri": "https://localhost:8080/",
          "height": 52
        },
        "outputId": "4f8d75a8-eb12-429f-9e35-d858c1378b26"
      },
      "source": [
        "atuple=[('No',0),('Si',1)]\n",
        "print(atuple[0])\n",
        "print(atuple[0][1])"
      ],
      "execution_count": null,
      "outputs": [
        {
          "output_type": "stream",
          "text": [
            "('No', 0)\n",
            "0\n"
          ],
          "name": "stdout"
        }
      ]
    },
    {
      "cell_type": "markdown",
      "metadata": {
        "id": "8FMTUW3MKvmh"
      },
      "source": [
        "### Set\n",
        "Es un conjunto desordenado de elementos\n",
        "\n",
        "\n",
        "Como conjuntos son usados generalmente cuando se necesita hacer chequeos de pertenencia, eliminación de duplicados de una secuencia y cálculo de operaciones matemáticas como intersección, unión, diferencia y diferencia simétrica."
      ]
    },
    {
      "cell_type": "code",
      "metadata": {
        "id": "hT1EgsaLfqDf"
      },
      "source": [
        "set1={'libro','cuaderno','mesa', 2}"
      ],
      "execution_count": null,
      "outputs": []
    },
    {
      "cell_type": "code",
      "metadata": {
        "id": "VJqy9vwdf5ZJ",
        "colab": {
          "base_uri": "https://localhost:8080/",
          "height": 52
        },
        "outputId": "6a13feb4-1f2f-4c6c-9cb3-4615fe76bd84"
      },
      "source": [
        "print('mesa' in set1)\n",
        "print('gato' in set1)"
      ],
      "execution_count": null,
      "outputs": [
        {
          "output_type": "stream",
          "text": [
            "True\n",
            "False\n"
          ],
          "name": "stdout"
        }
      ]
    },
    {
      "cell_type": "markdown",
      "metadata": {
        "id": "ZGVmpTlFg8KB"
      },
      "source": [
        "**isdisjoint(set2)**: devuelve verdadero si no tiene elementos en común con set2\n",
        "\n",
        "**intersection(set2)**: devuelve la intersección entre los conjuntos\n",
        "\n",
        "**union(set2)**: devuelve la unión de los conjuntos sin repeticiones\n",
        "\n",
        "**difference(set2)**: devuelve los elementos que están en el primer conjunto y no están en set2\n"
      ]
    },
    {
      "cell_type": "code",
      "metadata": {
        "id": "LBvreRZRgb02",
        "colab": {
          "base_uri": "https://localhost:8080/",
          "height": 141
        },
        "outputId": "099dfa55-0b84-4a07-e0c5-48352beeee93"
      },
      "source": [
        "set2={'gato','mesa','libro','perro'}\n",
        "print(set1.isdisjoint(set2))\n",
        "set3={'gato','perro'}\n",
        "print(set1.isdisjoint(set3))\n",
        "\n",
        "print(set3.issubset(set2))\n",
        "print('Intersección:',set1.intersection(set2))\n",
        "\n",
        "print('Union:',set1.union(set2))\n",
        "\n",
        "print('Diferencia:',set1.difference(set2))\n",
        "print('Diferencia:',set2.difference(set1))"
      ],
      "execution_count": null,
      "outputs": [
        {
          "output_type": "stream",
          "text": [
            "False\n",
            "True\n",
            "True\n",
            "Intersección: {'mesa', 'libro'}\n",
            "Union: {2, 'cuaderno', 'gato', 'libro', 'mesa', 'perro'}\n",
            "Diferencia: {2, 'cuaderno'}\n",
            "Diferencia: {'gato', 'perro'}\n"
          ],
          "name": "stdout"
        }
      ]
    },
    {
      "cell_type": "markdown",
      "metadata": {
        "id": "fBNyjHH3K1Z-"
      },
      "source": [
        "### Diccionarios"
      ]
    },
    {
      "cell_type": "code",
      "metadata": {
        "id": "NSR_zdIlLwH5",
        "colab": {
          "base_uri": "https://localhost:8080/",
          "height": 67
        },
        "outputId": "99c7e85f-6a06-4954-d98d-70eea4c62d45"
      },
      "source": [
        "dic={'Nombre':'Juan Pérez','Edad': 20, 'Notas':[4,5,4.3,3]}\n",
        "print(dic['Nombre'])\n",
        "print(dic['Notas'])\n",
        "print(round(sum(dic['Notas'])/len(dic['Notas']),1))"
      ],
      "execution_count": null,
      "outputs": [
        {
          "output_type": "stream",
          "text": [
            "Juan Pérez\n",
            "[4, 5, 4.3, 3]\n",
            "4.1\n"
          ],
          "name": "stdout"
        }
      ]
    },
    {
      "cell_type": "code",
      "metadata": {
        "id": "24722JROevwx",
        "colab": {
          "base_uri": "https://localhost:8080/",
          "height": 34
        },
        "outputId": "9cec48de-b56b-4fd8-8618-6bcb444f7345"
      },
      "source": [
        "dic2=dict(Nombre='Juan', Edad=20, Notas=[4,5,4.3,3])\n",
        "dic2"
      ],
      "execution_count": null,
      "outputs": [
        {
          "output_type": "execute_result",
          "data": {
            "text/plain": [
              "{'Edad': 20, 'Nombre': 'Juan', 'Notas': [4, 5, 4.3, 3]}"
            ]
          },
          "metadata": {
            "tags": []
          },
          "execution_count": 73
        }
      ]
    },
    {
      "cell_type": "markdown",
      "metadata": {
        "id": "iuweZfSXK58X"
      },
      "source": [
        "## Ciclos"
      ]
    },
    {
      "cell_type": "markdown",
      "metadata": {
        "id": "n2ImFVlcp41g"
      },
      "source": [
        "El **for each** de python es muy potente y muy rápido porque está programado en C.\n",
        "\n",
        "Se puede usar de diferentes formas:\n",
        "- recorrer un arreglo como se ha visto anteriormente, o cualquiera de los contenedores anteriores\n",
        "- crear un arreglo a partir de un resultado secuencial en una ciclo\n",
        "\n",
        "Para este último por ejemplo: Suponga que se quieren seleccionar los elementos mayores que 5 y dividirlos 10."
      ]
    },
    {
      "cell_type": "code",
      "metadata": {
        "id": "C29WxhpXK5KS",
        "colab": {
          "base_uri": "https://localhost:8080/",
          "height": 50
        },
        "outputId": "c6a0b00c-3d76-45bc-996f-8dfe2c475ddc"
      },
      "source": [
        "## Creando arreglos con un ciclo\n",
        "ejArray=[3,20,5,12,10,9,50]\n",
        "ex1=[e/10 for e in ejArray]\n",
        "print(ex1)\n",
        "ex=[e/10 for e in ejArray if e>5] # El if va al final del for de forma que se va a ejecutar sólo para esa condición\n",
        "ex"
      ],
      "execution_count": null,
      "outputs": [
        {
          "output_type": "stream",
          "text": [
            "[0.3, 2.0, 0.5, 1.2, 1.0, 0.9, 5.0]\n"
          ],
          "name": "stdout"
        },
        {
          "output_type": "execute_result",
          "data": {
            "text/plain": [
              "[2.0, 1.2, 1.0, 0.9, 5.0]"
            ]
          },
          "metadata": {
            "tags": []
          },
          "execution_count": 135
        }
      ]
    },
    {
      "cell_type": "markdown",
      "metadata": {
        "id": "tTe8_3CmrOBh"
      },
      "source": [
        "Suponga que se quiere: Hacer un nuevo arreglo donde los que son mayores que 5 los divida por 10 y los que son menores los multiplique por 2."
      ]
    },
    {
      "cell_type": "code",
      "metadata": {
        "id": "BK0TCOGwrVc2",
        "colab": {
          "base_uri": "https://localhost:8080/",
          "height": 34
        },
        "outputId": "38fa4621-a91e-4de3-df0b-4de5bc7e7470"
      },
      "source": [
        "[e/10 if e>5 else e*2 for e in ejArray] # En este caso el if va delante porque también se va a hacer una acción para el else"
      ],
      "execution_count": null,
      "outputs": [
        {
          "output_type": "execute_result",
          "data": {
            "text/plain": [
              "[6, 2.0, 10, 1.2, 1.0, 0.9, 5.0]"
            ]
          },
          "metadata": {
            "tags": []
          },
          "execution_count": 138
        }
      ]
    },
    {
      "cell_type": "code",
      "metadata": {
        "id": "CHrgecUlqnP4",
        "colab": {
          "base_uri": "https://localhost:8080/",
          "height": 34
        },
        "outputId": "400ebd3d-1ce7-44bc-8c65-3e82ef63de5b"
      },
      "source": [
        "[ejArray[e]/10 if ejArray[e]>5 else ejArray[e]*2 for e in range(0,5)]"
      ],
      "execution_count": null,
      "outputs": [
        {
          "output_type": "execute_result",
          "data": {
            "text/plain": [
              "[6, 2.0, 10, 1.2, 1.0]"
            ]
          },
          "metadata": {
            "tags": []
          },
          "execution_count": 139
        }
      ]
    },
    {
      "cell_type": "markdown",
      "metadata": {
        "id": "8Cf6krQNrvd3"
      },
      "source": [
        "El if también se puede usar así para asignar un valor"
      ]
    },
    {
      "cell_type": "code",
      "metadata": {
        "id": "d_EoplyZrzWu",
        "colab": {
          "base_uri": "https://localhost:8080/",
          "height": 34
        },
        "outputId": "10986f68-4089-4e23-80ea-eaed2c329b2f"
      },
      "source": [
        "a= 20\n",
        "b= a/10 if a>5 else a*2\n",
        "b"
      ],
      "execution_count": null,
      "outputs": [
        {
          "output_type": "execute_result",
          "data": {
            "text/plain": [
              "2.0"
            ]
          },
          "metadata": {
            "tags": []
          },
          "execution_count": 190
        }
      ]
    },
    {
      "cell_type": "markdown",
      "metadata": {
        "id": "LbK8o5absDXE"
      },
      "source": [
        "Cuando necesitamos recorrer un arreglo con índices o sea en un rango de 0 a N"
      ]
    },
    {
      "cell_type": "code",
      "metadata": {
        "id": "rxEdWvMPsLi9",
        "colab": {
          "base_uri": "https://localhost:8080/",
          "height": 134
        },
        "outputId": "479badbe-2e2b-42d8-9f6b-ac0eab230270"
      },
      "source": [
        "for i in range(len(ejArray)):\n",
        "  print(i,':',ejArray[i])"
      ],
      "execution_count": null,
      "outputs": [
        {
          "output_type": "stream",
          "text": [
            "0 : 3\n",
            "1 : 20\n",
            "2 : 5\n",
            "3 : 12\n",
            "4 : 10\n",
            "5 : 9\n",
            "6 : 50\n"
          ],
          "name": "stdout"
        }
      ]
    },
    {
      "cell_type": "markdown",
      "metadata": {
        "id": "tlwGXL13sdNV"
      },
      "source": [
        "O también podemos usar **enumerate** que devuelve una tupla donde tenemos el ínice y el arreglo en el índice"
      ]
    },
    {
      "cell_type": "code",
      "metadata": {
        "id": "l89hT8XFsYnQ",
        "colab": {
          "base_uri": "https://localhost:8080/",
          "height": 134
        },
        "outputId": "4ccacd88-2346-46aa-dae9-a875d0e1191a"
      },
      "source": [
        "for i,e in enumerate(ejArray):\n",
        "  print(i,':',e)"
      ],
      "execution_count": null,
      "outputs": [
        {
          "output_type": "stream",
          "text": [
            "0 : 3\n",
            "1 : 20\n",
            "2 : 5\n",
            "3 : 12\n",
            "4 : 10\n",
            "5 : 9\n",
            "6 : 50\n"
          ],
          "name": "stdout"
        }
      ]
    },
    {
      "cell_type": "markdown",
      "metadata": {
        "id": "DNVVhxN6tRJP"
      },
      "source": [
        "while se usa con una condición (sólo que es mucho más lento que el for)"
      ]
    },
    {
      "cell_type": "code",
      "metadata": {
        "id": "A5CunzQos-lW",
        "colab": {
          "base_uri": "https://localhost:8080/",
          "height": 134
        },
        "outputId": "2d8036df-f5cc-4fa6-9ece-6e2038988f3c"
      },
      "source": [
        "i=0\n",
        "while i<len(ejArray):\n",
        "  print(i,':',ejArray[i])\n",
        "  i+=1"
      ],
      "execution_count": null,
      "outputs": [
        {
          "output_type": "stream",
          "text": [
            "0 : 3\n",
            "1 : 20\n",
            "2 : 5\n",
            "3 : 12\n",
            "4 : 10\n",
            "5 : 9\n",
            "6 : 50\n"
          ],
          "name": "stdout"
        }
      ]
    },
    {
      "cell_type": "markdown",
      "metadata": {
        "id": "QdLkGbY5whS3"
      },
      "source": [
        "Iterar un diccionario:\n",
        "\n",
        "Como los diccionarios se manejan como tablas hash, uno puede acceder a su llave (key) o a sus elementos asociados a cada key"
      ]
    },
    {
      "cell_type": "code",
      "metadata": {
        "id": "ncEVWksHwEXe",
        "colab": {
          "base_uri": "https://localhost:8080/",
          "height": 67
        },
        "outputId": "6f9a27f1-ab03-4da5-a052-6e0201d198d8"
      },
      "source": [
        "for key in dic:\n",
        "  print(key)"
      ],
      "execution_count": null,
      "outputs": [
        {
          "output_type": "stream",
          "text": [
            "Nombre\n",
            "Edad\n",
            "Notas\n"
          ],
          "name": "stdout"
        }
      ]
    },
    {
      "cell_type": "code",
      "metadata": {
        "id": "t5G8usskw1ek",
        "colab": {
          "base_uri": "https://localhost:8080/",
          "height": 67
        },
        "outputId": "080d27a1-db92-4a5d-b59d-6f7f111eff51"
      },
      "source": [
        "for key in dic:\n",
        "  print(key,':',dic[key])"
      ],
      "execution_count": null,
      "outputs": [
        {
          "output_type": "stream",
          "text": [
            "Nombre : Juan Pérez\n",
            "Edad : 20\n",
            "Notas : [4, 5, 4.3, 3]\n"
          ],
          "name": "stdout"
        }
      ]
    },
    {
      "cell_type": "markdown",
      "metadata": {
        "id": "XMa0TTIMxQOV"
      },
      "source": [
        "También se puede acceder a la key y el valor a la vez con la función items()"
      ]
    },
    {
      "cell_type": "code",
      "metadata": {
        "id": "Mx47LRiGxGun",
        "colab": {
          "base_uri": "https://localhost:8080/",
          "height": 34
        },
        "outputId": "f708c56a-7f23-4d13-a8a6-f20b619356dd"
      },
      "source": [
        "dic.items()"
      ],
      "execution_count": null,
      "outputs": [
        {
          "output_type": "execute_result",
          "data": {
            "text/plain": [
              "dict_items([('Nombre', 'Juan Pérez'), ('Edad', 20), ('Notas', [4, 5, 4.3, 3])])"
            ]
          },
          "metadata": {
            "tags": []
          },
          "execution_count": 78
        }
      ]
    },
    {
      "cell_type": "code",
      "metadata": {
        "id": "0blTvSnDxXI7",
        "colab": {
          "base_uri": "https://localhost:8080/",
          "height": 67
        },
        "outputId": "30685321-28e8-42cd-881d-2d67a233d0ab"
      },
      "source": [
        "for k,v in dic.items():\n",
        "  print(k,':',v)"
      ],
      "execution_count": null,
      "outputs": [
        {
          "output_type": "stream",
          "text": [
            "Nombre : Juan Pérez\n",
            "Edad : 20\n",
            "Notas : [4, 5, 4.3, 3]\n"
          ],
          "name": "stdout"
        }
      ]
    },
    {
      "cell_type": "markdown",
      "metadata": {
        "id": "pQZaMWP0tZZf"
      },
      "source": [
        "## Clases"
      ]
    },
    {
      "cell_type": "markdown",
      "metadata": {
        "id": "9Bfo1j_5tnMh"
      },
      "source": [
        "Las clases en python tienen un método __init__ que es el constructor.\n",
        "\n",
        "Los atributos se definen en cualquier lugar de la clase pero poniéndole self.nombreAtributo\n",
        "\n",
        "Los métodos se dividen en tres tipos:\n",
        " propios de la clase tienen un primer atributo que es self, haciendo \n",
        "\n",
        "*   Métodos de la clase: Puede ser llamado sin crear una instancia. Estos métodos tienen un primer atributo ***cls***. Puede llamar a otros métodos y atributos de la clase, pero no de la instancia. Se le debe anteponer  **@classmethod**\n",
        "*   Métodos de instancia: Tiene que ser llamado desde una instancia. Estos métodos tienen un primer atributos ***self***\n",
        "*   Métodos estáticos: Pude ser llamado sin crear una instancia. Se le debe anteponer **@staticmethod**"
      ]
    },
    {
      "cell_type": "code",
      "metadata": {
        "id": "GbWlCFmtvRqP"
      },
      "source": [
        "import math"
      ],
      "execution_count": null,
      "outputs": []
    },
    {
      "cell_type": "code",
      "metadata": {
        "id": "FdasYWEmuGhj"
      },
      "source": [
        "class Circulo():\n",
        "  ### Se define el constructor con las variables que se quieren asignar y se pueden declarar ahí mismo.\n",
        "  ### Por ejemplo acá estamos pasando el radio del círculo\n",
        "  def __init__(self,radio):\n",
        "    self.radio=radio\n",
        "  ### Por ejemplo si se quiere definir un método para el cálculo del área\n",
        "\n",
        "  def area(self):\n",
        "    return self.radio**2 * math.pi"
      ],
      "execution_count": null,
      "outputs": []
    },
    {
      "cell_type": "code",
      "metadata": {
        "id": "cnxqLrzMvjDc",
        "colab": {
          "base_uri": "https://localhost:8080/",
          "height": 34
        },
        "outputId": "548fc37b-9373-4b6d-ace5-956842885e41"
      },
      "source": [
        "# Objeto de tipo Circulo con radio=5\n",
        "circulo1=Circulo(5)\n",
        "circulo1.area()"
      ],
      "execution_count": null,
      "outputs": [
        {
          "output_type": "execute_result",
          "data": {
            "text/plain": [
              "78.53981633974483"
            ]
          },
          "metadata": {
            "tags": []
          },
          "execution_count": 202
        }
      ]
    },
    {
      "cell_type": "markdown",
      "metadata": {
        "id": "sRSyjAhtwAMA"
      },
      "source": [
        "La herencia también se puede manejar de manera fácil. Podemos definir una clase FiguraGeométrica que tuviera el método área, para todos lo que heredan de ella. Y que la clase Circulo herede de ella."
      ]
    },
    {
      "cell_type": "code",
      "metadata": {
        "id": "1WBBgwQyv_ez"
      },
      "source": [
        "## Si queremos hacer la clase abstracta hay que ponerle el ABC\n",
        "from abc import ABC, abstractmethod \n",
        "class FiguraGeometrica(ABC):\n",
        "\n",
        "  ## Método abstracto, hace que las clases que hereden de ella lo tengan que implementar\n",
        "  def area(self):\n",
        "    pass"
      ],
      "execution_count": null,
      "outputs": []
    },
    {
      "cell_type": "code",
      "metadata": {
        "id": "NE72Jv3RxZzL"
      },
      "source": [
        "class Circulo(FiguraGeometrica):\n",
        "  def __init__(self,radio):\n",
        "    self.radio=radio\n",
        "\n",
        "  def area(self):\n",
        "    return self.radio**2 * math.pi"
      ],
      "execution_count": null,
      "outputs": []
    },
    {
      "cell_type": "code",
      "metadata": {
        "id": "XJYXYxQDxtfy",
        "colab": {
          "base_uri": "https://localhost:8080/",
          "height": 34
        },
        "outputId": "ae6cb31b-3824-4a1d-9dad-bd0aef191089"
      },
      "source": [
        "circulo1=Circulo(5)\n",
        "circulo1.area()"
      ],
      "execution_count": null,
      "outputs": [
        {
          "output_type": "execute_result",
          "data": {
            "text/plain": [
              "78.53981633974483"
            ]
          },
          "metadata": {
            "tags": []
          },
          "execution_count": 205
        }
      ]
    },
    {
      "cell_type": "markdown",
      "metadata": {
        "id": "P4NIlZTx0Sfr"
      },
      "source": [
        "Una clase puede tener atributos de la clase y atributos de las instancias. Los que son declarados con self son de instancia y los que se declaran encima de la clase son de la clase"
      ]
    },
    {
      "cell_type": "code",
      "metadata": {
        "id": "MrwXGaKtx097"
      },
      "source": [
        "class Trabajador:\n",
        "  bienvenida='Hola trabajador'\n",
        "\n",
        "  ## Para que los atributos sean privados se deben poner con __ delante\n",
        "  def __init__(self,nombre, edad, salario):\n",
        "    self.__nombre=nombre\n",
        "    self.__edad=edad\n",
        "    self.__salario=salario\n",
        "\n",
        "  def set_diasTrabajados(self,diasTrabajados):\n",
        "    self.__diasTrabajados=diasTrabajados\n",
        "\n",
        "  def set_salario(self,salario):\n",
        "    self.__salario=salario\n",
        "  \n",
        "  def get_nombre(self):\n",
        "    return self.__nombre\n",
        "\n",
        "  def get_salario(self):\n",
        "    return self.__salario\n",
        "\n",
        "  def get_edad(self):\n",
        "    return self.__edad\n",
        "\n",
        "  def calSalario(self):\n",
        "    return self.__diasTrabajados*self.__salario/24\n",
        "  \n",
        "  # Métodos de clase: Estos métodos deben llevar una variable cls y pueden acceder a los atributos de las clase pero no a los de la instancia\n",
        "  @classmethod\n",
        "  def saludo(cls):\n",
        "    return cls.bienvenida\n",
        "  \n",
        "  # Métodos estáticos: son métodos que no dependen de los atributos de la clase ni la instancia, pueden ser usados sin instanciar un objeto\n",
        "  @staticmethod\n",
        "  def mensaje(m):\n",
        "    print(m)\n",
        "\n",
        "class Obrero(Trabajador):\n",
        "  def calSalario(self):\n",
        "    return "
      ],
      "execution_count": null,
      "outputs": []
    },
    {
      "cell_type": "code",
      "metadata": {
        "id": "TvoR0wgo1H1y",
        "colab": {
          "base_uri": "https://localhost:8080/",
          "height": 84
        },
        "outputId": "d56c7691-c230-4656-830e-baf8dc263b34"
      },
      "source": [
        "t=Trabajador('Juan Pérez', 35,3000000)\n",
        "t.set_diasTrabajados(20)\n",
        "print(t.calSalario())\n",
        "print(t.saludo())\n",
        "t.mensaje('Esto es una prueba de método estático')\n",
        "Trabajador.mensaje('Esto es una prueba de que se peuden usar directamente')\n"
      ],
      "execution_count": null,
      "outputs": [
        {
          "output_type": "stream",
          "text": [
            "2500000.0\n",
            "Hola trabajador\n",
            "Esto es una prueba de método estático\n",
            "Esto es una prueba de que se peuden usar directamente\n"
          ],
          "name": "stdout"
        }
      ]
    },
    {
      "cell_type": "markdown",
      "metadata": {
        "id": "j7Wp_b5d9_i6"
      },
      "source": [
        "También se puede hacer una definición de los parámetros usando @property\n",
        "\n",
        "Esta es otra forma de hacer los métodos get y set y que se pueda acceder y cambiar la variable según las opciones que se programen."
      ]
    },
    {
      "cell_type": "code",
      "metadata": {
        "id": "mdSaPCe5-OP6"
      },
      "source": [
        "class CirculoP():\n",
        "  def __init__(self,radio):\n",
        "    self.__radio=radio\n",
        "\n",
        "  ### Haciendo una propiedad para radio\n",
        "  @property\n",
        "  def radio(self):\n",
        "\t  return self.__radio\n",
        "  ## Declaración del set\n",
        "\n",
        "  @radio.setter\n",
        "  def radio(self, radio):\n",
        "    if radio > 0 and isinstance(radio, float):\n",
        "      self.__radio = radio\n",
        "    else:\n",
        "      print(\"Entre un radio válido\")\n",
        "\n",
        "  def area(self):\n",
        "    return self.radio**2 * math.pi"
      ],
      "execution_count": null,
      "outputs": []
    },
    {
      "cell_type": "code",
      "metadata": {
        "id": "fCTX9mt2_TIr",
        "colab": {
          "base_uri": "https://localhost:8080/",
          "height": 50
        },
        "outputId": "355ee718-2ca9-4bf2-c92d-2e150364c8d2"
      },
      "source": [
        "circulo=CirculoP(10)\n",
        "circulo.radio=-5 # ya uno puede asignar un valor y llama el método de setter\n",
        "circulo.radio\n",
        "print(circulo)"
      ],
      "execution_count": null,
      "outputs": [
        {
          "output_type": "stream",
          "text": [
            "Entre un radio válido\n",
            "Circulo10\n"
          ],
          "name": "stdout"
        }
      ]
    },
    {
      "cell_type": "markdown",
      "metadata": {
        "id": "lLY0y0a2A9cz"
      },
      "source": [
        "Existen otros método interesantes, por ejemplo:\n",
        "\n",
        "\n",
        "\n",
        "*   **__eq__** es invocado cuando se hace una comparación de dos instancias de la clase a == b\n",
        "*   **__add__** es invocado al sumar dos instancias de la clase a+b\n",
        "*   **__str__** es invocado al imprimir el objeto, debe devolver una cadena\n",
        "\n",
        "\n"
      ]
    },
    {
      "cell_type": "markdown",
      "metadata": {
        "id": "T12-05PB5UNZ"
      },
      "source": [
        "## Panda\n",
        "\n",
        "Panda es una biblioteca que permite el trabajo con dos estructuras:\n",
        "\n",
        "**DataFrame** que funciona como una tabla donde las columnas pueden ser etiquetadas, lo cuál puede hacer útil el almacenamiento de datos matriciales\n",
        "\n",
        "**Series** que es una columna simple"
      ]
    },
    {
      "cell_type": "code",
      "metadata": {
        "id": "X0AENXi45moN"
      },
      "source": [
        "import pandas as pd"
      ],
      "execution_count": null,
      "outputs": []
    },
    {
      "cell_type": "markdown",
      "metadata": {
        "id": "NqnftqldAuOd"
      },
      "source": [
        "### Creación de DataFrame\n",
        "Los DataFrame se pueden construir a partir de Diccionarios de Series o directamente."
      ]
    },
    {
      "cell_type": "code",
      "metadata": {
        "id": "BphK0zLR_SCu",
        "colab": {
          "base_uri": "https://localhost:8080/",
          "height": 166
        },
        "outputId": "02bd6714-c3d8-4a83-e0e8-a61f8df49652"
      },
      "source": [
        "estudiantes=['Juan Pérez', 'Ana Hernández', 'Pedro García', 'Juana González']\n",
        "notasEDA=[4.8,3.2,2,5]\n",
        "notasIA=[4.3, 2.9,5,4.5]\n",
        "df=pd.DataFrame({'Estudiantes':estudiantes, 'NotasEDA':notasEDA,'NotasIA': notasIA})\n",
        "df"
      ],
      "execution_count": null,
      "outputs": [
        {
          "output_type": "execute_result",
          "data": {
            "text/html": [
              "<div>\n",
              "<style scoped>\n",
              "    .dataframe tbody tr th:only-of-type {\n",
              "        vertical-align: middle;\n",
              "    }\n",
              "\n",
              "    .dataframe tbody tr th {\n",
              "        vertical-align: top;\n",
              "    }\n",
              "\n",
              "    .dataframe thead th {\n",
              "        text-align: right;\n",
              "    }\n",
              "</style>\n",
              "<table border=\"1\" class=\"dataframe\">\n",
              "  <thead>\n",
              "    <tr style=\"text-align: right;\">\n",
              "      <th></th>\n",
              "      <th>Estudiantes</th>\n",
              "      <th>NotasEDA</th>\n",
              "      <th>NotasIA</th>\n",
              "    </tr>\n",
              "  </thead>\n",
              "  <tbody>\n",
              "    <tr>\n",
              "      <th>0</th>\n",
              "      <td>Juan Pérez</td>\n",
              "      <td>4.8</td>\n",
              "      <td>4.3</td>\n",
              "    </tr>\n",
              "    <tr>\n",
              "      <th>1</th>\n",
              "      <td>Ana Hernández</td>\n",
              "      <td>3.2</td>\n",
              "      <td>2.9</td>\n",
              "    </tr>\n",
              "    <tr>\n",
              "      <th>2</th>\n",
              "      <td>Pedro García</td>\n",
              "      <td>2.0</td>\n",
              "      <td>5.0</td>\n",
              "    </tr>\n",
              "    <tr>\n",
              "      <th>3</th>\n",
              "      <td>Juana González</td>\n",
              "      <td>5.0</td>\n",
              "      <td>4.5</td>\n",
              "    </tr>\n",
              "  </tbody>\n",
              "</table>\n",
              "</div>"
            ],
            "text/plain": [
              "      Estudiantes  NotasEDA  NotasIA\n",
              "0      Juan Pérez       4.8      4.3\n",
              "1   Ana Hernández       3.2      2.9\n",
              "2    Pedro García       2.0      5.0\n",
              "3  Juana González       5.0      4.5"
            ]
          },
          "metadata": {
            "tags": []
          },
          "execution_count": 4
        }
      ]
    },
    {
      "cell_type": "code",
      "metadata": {
        "id": "114SPnBeHUdT",
        "colab": {
          "base_uri": "https://localhost:8080/",
          "height": 266
        },
        "outputId": "c0ea8bdf-d03e-4eea-907d-2a14c8bdd8a9"
      },
      "source": [
        "a=np.array(estudiantes)\n",
        "a=np.append(a,notasEDA)\n",
        "a=np.append(a, notasIA)\n",
        "print(a)\n",
        "a=np.matrix(np.reshape(a, (3,4)))\n",
        "a=a.transpose()\n",
        "print(a)\n",
        "df = pd.DataFrame(a, columns=['Estudiante', 'NotasEDA', 'NotasIA'])\n",
        "df\n"
      ],
      "execution_count": null,
      "outputs": [
        {
          "output_type": "stream",
          "text": [
            "['Juan Pérez' 'Ana Hernández' 'Pedro García' 'Juana González' '4.8' '3.2'\n",
            " '2.0' '5.0' '4.3' '2.9' '5.0' '4.5']\n",
            "[['Juan Pérez' '4.8' '4.3']\n",
            " ['Ana Hernández' '3.2' '2.9']\n",
            " ['Pedro García' '2.0' '5.0']\n",
            " ['Juana González' '5.0' '4.5']]\n"
          ],
          "name": "stdout"
        },
        {
          "output_type": "execute_result",
          "data": {
            "text/html": [
              "<div>\n",
              "<style scoped>\n",
              "    .dataframe tbody tr th:only-of-type {\n",
              "        vertical-align: middle;\n",
              "    }\n",
              "\n",
              "    .dataframe tbody tr th {\n",
              "        vertical-align: top;\n",
              "    }\n",
              "\n",
              "    .dataframe thead th {\n",
              "        text-align: right;\n",
              "    }\n",
              "</style>\n",
              "<table border=\"1\" class=\"dataframe\">\n",
              "  <thead>\n",
              "    <tr style=\"text-align: right;\">\n",
              "      <th></th>\n",
              "      <th>Estudiante</th>\n",
              "      <th>NotasEDA</th>\n",
              "      <th>NotasIA</th>\n",
              "    </tr>\n",
              "  </thead>\n",
              "  <tbody>\n",
              "    <tr>\n",
              "      <th>0</th>\n",
              "      <td>Juan Pérez</td>\n",
              "      <td>4.8</td>\n",
              "      <td>4.3</td>\n",
              "    </tr>\n",
              "    <tr>\n",
              "      <th>1</th>\n",
              "      <td>Ana Hernández</td>\n",
              "      <td>3.2</td>\n",
              "      <td>2.9</td>\n",
              "    </tr>\n",
              "    <tr>\n",
              "      <th>2</th>\n",
              "      <td>Pedro García</td>\n",
              "      <td>2.0</td>\n",
              "      <td>5.0</td>\n",
              "    </tr>\n",
              "    <tr>\n",
              "      <th>3</th>\n",
              "      <td>Juana González</td>\n",
              "      <td>5.0</td>\n",
              "      <td>4.5</td>\n",
              "    </tr>\n",
              "  </tbody>\n",
              "</table>\n",
              "</div>"
            ],
            "text/plain": [
              "       Estudiante NotasEDA NotasIA\n",
              "0      Juan Pérez      4.8     4.3\n",
              "1   Ana Hernández      3.2     2.9\n",
              "2    Pedro García      2.0     5.0\n",
              "3  Juana González      5.0     4.5"
            ]
          },
          "metadata": {
            "tags": []
          },
          "execution_count": 24
        }
      ]
    },
    {
      "cell_type": "markdown",
      "metadata": {
        "id": "LKEb7HQ6KNo4"
      },
      "source": [
        "Se puede ir adicionando columnas al DataFrame"
      ]
    },
    {
      "cell_type": "code",
      "metadata": {
        "id": "JOiaCoxLKRl8",
        "colab": {
          "base_uri": "https://localhost:8080/",
          "height": 250
        },
        "outputId": "9243fd3e-a5e5-4d9b-f824-e5937f8018d3"
      },
      "source": [
        "df = pd.DataFrame({'Estudiantes':estudiantes})\n",
        "print(df)\n",
        "df['NotasEDA']=notasEDA\n",
        "df['NotasIA']=notasIA\n",
        "df"
      ],
      "execution_count": null,
      "outputs": [
        {
          "output_type": "stream",
          "text": [
            "      Estudiantes\n",
            "0      Juan Pérez\n",
            "1   Ana Hernández\n",
            "2    Pedro García\n",
            "3  Juana González\n"
          ],
          "name": "stdout"
        },
        {
          "output_type": "execute_result",
          "data": {
            "text/html": [
              "<div>\n",
              "<style scoped>\n",
              "    .dataframe tbody tr th:only-of-type {\n",
              "        vertical-align: middle;\n",
              "    }\n",
              "\n",
              "    .dataframe tbody tr th {\n",
              "        vertical-align: top;\n",
              "    }\n",
              "\n",
              "    .dataframe thead th {\n",
              "        text-align: right;\n",
              "    }\n",
              "</style>\n",
              "<table border=\"1\" class=\"dataframe\">\n",
              "  <thead>\n",
              "    <tr style=\"text-align: right;\">\n",
              "      <th></th>\n",
              "      <th>Estudiantes</th>\n",
              "      <th>NotasEDA</th>\n",
              "      <th>NotasIA</th>\n",
              "    </tr>\n",
              "  </thead>\n",
              "  <tbody>\n",
              "    <tr>\n",
              "      <th>0</th>\n",
              "      <td>Juan Pérez</td>\n",
              "      <td>4.8</td>\n",
              "      <td>4.3</td>\n",
              "    </tr>\n",
              "    <tr>\n",
              "      <th>1</th>\n",
              "      <td>Ana Hernández</td>\n",
              "      <td>3.2</td>\n",
              "      <td>2.9</td>\n",
              "    </tr>\n",
              "    <tr>\n",
              "      <th>2</th>\n",
              "      <td>Pedro García</td>\n",
              "      <td>2.0</td>\n",
              "      <td>5.0</td>\n",
              "    </tr>\n",
              "    <tr>\n",
              "      <th>3</th>\n",
              "      <td>Juana González</td>\n",
              "      <td>5.0</td>\n",
              "      <td>4.5</td>\n",
              "    </tr>\n",
              "  </tbody>\n",
              "</table>\n",
              "</div>"
            ],
            "text/plain": [
              "      Estudiantes  NotasEDA  NotasIA\n",
              "0      Juan Pérez       4.8      4.3\n",
              "1   Ana Hernández       3.2      2.9\n",
              "2    Pedro García       2.0      5.0\n",
              "3  Juana González       5.0      4.5"
            ]
          },
          "metadata": {
            "tags": []
          },
          "execution_count": 48
        }
      ]
    },
    {
      "cell_type": "markdown",
      "metadata": {
        "id": "HZSQLo47Gku1"
      },
      "source": [
        "### Indexando\n",
        "Para indexar un panda se puede usar:\n",
        "\n",
        ".loc, .iloc, [] con etiquetas o con índices"
      ]
    },
    {
      "cell_type": "code",
      "metadata": {
        "id": "QZMcNPq9FlAO",
        "colab": {
          "base_uri": "https://localhost:8080/",
          "height": 118
        },
        "outputId": "13258418-4256-411d-b325-c3d2dbfff563"
      },
      "source": [
        "print(type(df['Estudiantes']))\n",
        "print(df['Estudiantes'])"
      ],
      "execution_count": null,
      "outputs": [
        {
          "output_type": "stream",
          "text": [
            "<class 'pandas.core.series.Series'>\n",
            "0        Juan Pérez\n",
            "1     Ana Hernández\n",
            "2      Pedro García\n",
            "3    Juana González\n",
            "Name: Estudiantes, dtype: object\n"
          ],
          "name": "stdout"
        }
      ]
    },
    {
      "cell_type": "markdown",
      "metadata": {
        "id": "4mPiKae2T4nR"
      },
      "source": [
        "Selección por filas"
      ]
    },
    {
      "cell_type": "code",
      "metadata": {
        "id": "KKUssDFJQP04",
        "colab": {
          "base_uri": "https://localhost:8080/",
          "height": 84
        },
        "outputId": "3189bc5a-3920-467b-9193-53cbf05c424a"
      },
      "source": [
        "df.loc[2]"
      ],
      "execution_count": null,
      "outputs": [
        {
          "output_type": "execute_result",
          "data": {
            "text/plain": [
              "Estudiantes    Pedro García\n",
              "NotasEDA                  2\n",
              "NotasIA                   5\n",
              "Name: 2, dtype: object"
            ]
          },
          "metadata": {
            "tags": []
          },
          "execution_count": 50
        }
      ]
    },
    {
      "cell_type": "code",
      "metadata": {
        "id": "gLRNT4JoQko1",
        "colab": {
          "base_uri": "https://localhost:8080/",
          "height": 106
        },
        "outputId": "c37f5f10-cfd4-4620-bf44-7ac4fda0c4fe"
      },
      "source": [
        "df.loc[1:2]"
      ],
      "execution_count": null,
      "outputs": [
        {
          "output_type": "execute_result",
          "data": {
            "text/html": [
              "<div>\n",
              "<style scoped>\n",
              "    .dataframe tbody tr th:only-of-type {\n",
              "        vertical-align: middle;\n",
              "    }\n",
              "\n",
              "    .dataframe tbody tr th {\n",
              "        vertical-align: top;\n",
              "    }\n",
              "\n",
              "    .dataframe thead th {\n",
              "        text-align: right;\n",
              "    }\n",
              "</style>\n",
              "<table border=\"1\" class=\"dataframe\">\n",
              "  <thead>\n",
              "    <tr style=\"text-align: right;\">\n",
              "      <th></th>\n",
              "      <th>Estudiantes</th>\n",
              "      <th>NotasEDA</th>\n",
              "      <th>NotasIA</th>\n",
              "    </tr>\n",
              "  </thead>\n",
              "  <tbody>\n",
              "    <tr>\n",
              "      <th>1</th>\n",
              "      <td>Ana Hernández</td>\n",
              "      <td>3.2</td>\n",
              "      <td>2.9</td>\n",
              "    </tr>\n",
              "    <tr>\n",
              "      <th>2</th>\n",
              "      <td>Pedro García</td>\n",
              "      <td>2.0</td>\n",
              "      <td>5.0</td>\n",
              "    </tr>\n",
              "  </tbody>\n",
              "</table>\n",
              "</div>"
            ],
            "text/plain": [
              "     Estudiantes  NotasEDA  NotasIA\n",
              "1  Ana Hernández       3.2      2.9\n",
              "2   Pedro García       2.0      5.0"
            ]
          },
          "metadata": {
            "tags": []
          },
          "execution_count": 51
        }
      ]
    },
    {
      "cell_type": "markdown",
      "metadata": {
        "id": "e0OW-a48WCZK"
      },
      "source": [
        "Selección fila y columna:\n",
        "\n",
        "Para seleccionar un conjunto de filas"
      ]
    },
    {
      "cell_type": "code",
      "metadata": {
        "id": "Qu2wr4FXVM6V",
        "colab": {
          "base_uri": "https://localhost:8080/",
          "height": 106
        },
        "outputId": "f575bf62-2bfe-442a-bd43-a5a90f864772"
      },
      "source": [
        "df.iloc[[0,2]]"
      ],
      "execution_count": null,
      "outputs": [
        {
          "output_type": "execute_result",
          "data": {
            "text/html": [
              "<div>\n",
              "<style scoped>\n",
              "    .dataframe tbody tr th:only-of-type {\n",
              "        vertical-align: middle;\n",
              "    }\n",
              "\n",
              "    .dataframe tbody tr th {\n",
              "        vertical-align: top;\n",
              "    }\n",
              "\n",
              "    .dataframe thead th {\n",
              "        text-align: right;\n",
              "    }\n",
              "</style>\n",
              "<table border=\"1\" class=\"dataframe\">\n",
              "  <thead>\n",
              "    <tr style=\"text-align: right;\">\n",
              "      <th></th>\n",
              "      <th>Estudiantes</th>\n",
              "      <th>NotasEDA</th>\n",
              "      <th>NotasIA</th>\n",
              "    </tr>\n",
              "  </thead>\n",
              "  <tbody>\n",
              "    <tr>\n",
              "      <th>0</th>\n",
              "      <td>Juan Pérez</td>\n",
              "      <td>5.0</td>\n",
              "      <td>4.3</td>\n",
              "    </tr>\n",
              "    <tr>\n",
              "      <th>2</th>\n",
              "      <td>Pedro García</td>\n",
              "      <td>3.0</td>\n",
              "      <td>3.0</td>\n",
              "    </tr>\n",
              "  </tbody>\n",
              "</table>\n",
              "</div>"
            ],
            "text/plain": [
              "    Estudiantes  NotasEDA  NotasIA\n",
              "0    Juan Pérez       5.0      4.3\n",
              "2  Pedro García       3.0      3.0"
            ]
          },
          "metadata": {
            "tags": []
          },
          "execution_count": 62
        }
      ]
    },
    {
      "cell_type": "markdown",
      "metadata": {
        "id": "3OfCvQ8xWPUX"
      },
      "source": [
        "Seleccionar un elemento determinado dando el número de fila y columna"
      ]
    },
    {
      "cell_type": "code",
      "metadata": {
        "id": "dzMboCwOF6uW",
        "colab": {
          "base_uri": "https://localhost:8080/",
          "height": 34
        },
        "outputId": "240fc1d5-b994-459f-bc04-c7f86cd6c23a"
      },
      "source": [
        "# df.iloc[indice_columna, indice_fila]\n",
        "df.iloc[1,2]"
      ],
      "execution_count": null,
      "outputs": [
        {
          "output_type": "execute_result",
          "data": {
            "text/plain": [
              "2.9"
            ]
          },
          "metadata": {
            "tags": []
          },
          "execution_count": 52
        }
      ]
    },
    {
      "cell_type": "markdown",
      "metadata": {
        "id": "UbmFrJPZWXb-"
      },
      "source": [
        "Seleccionar rango de filas y rango de columnas"
      ]
    },
    {
      "cell_type": "code",
      "metadata": {
        "id": "E-ImkQ8kQvxs",
        "colab": {
          "base_uri": "https://localhost:8080/",
          "height": 106
        },
        "outputId": "1d09e0f9-991a-4218-813a-84d20080cbb3"
      },
      "source": [
        "# Acá funciona como el rango en arreglos\n",
        "df.iloc[0:2,1:3]"
      ],
      "execution_count": null,
      "outputs": [
        {
          "output_type": "execute_result",
          "data": {
            "text/html": [
              "<div>\n",
              "<style scoped>\n",
              "    .dataframe tbody tr th:only-of-type {\n",
              "        vertical-align: middle;\n",
              "    }\n",
              "\n",
              "    .dataframe tbody tr th {\n",
              "        vertical-align: top;\n",
              "    }\n",
              "\n",
              "    .dataframe thead th {\n",
              "        text-align: right;\n",
              "    }\n",
              "</style>\n",
              "<table border=\"1\" class=\"dataframe\">\n",
              "  <thead>\n",
              "    <tr style=\"text-align: right;\">\n",
              "      <th></th>\n",
              "      <th>NotasEDA</th>\n",
              "      <th>NotasIA</th>\n",
              "    </tr>\n",
              "  </thead>\n",
              "  <tbody>\n",
              "    <tr>\n",
              "      <th>0</th>\n",
              "      <td>4.8</td>\n",
              "      <td>4.3</td>\n",
              "    </tr>\n",
              "    <tr>\n",
              "      <th>1</th>\n",
              "      <td>3.2</td>\n",
              "      <td>2.9</td>\n",
              "    </tr>\n",
              "  </tbody>\n",
              "</table>\n",
              "</div>"
            ],
            "text/plain": [
              "   NotasEDA  NotasIA\n",
              "0       4.8      4.3\n",
              "1       3.2      2.9"
            ]
          },
          "metadata": {
            "tags": []
          },
          "execution_count": 53
        }
      ]
    },
    {
      "cell_type": "markdown",
      "metadata": {
        "id": "mz7R0BZmVqeQ"
      },
      "source": [
        "Seleccionando conjunto de filas y columnas específicas:\n",
        "\n",
        "Por ejemplo seleccionando la fila 1 y 3 y columnas 0 y 2"
      ]
    },
    {
      "cell_type": "code",
      "metadata": {
        "id": "oIw75JUdVo2h",
        "colab": {
          "base_uri": "https://localhost:8080/",
          "height": 106
        },
        "outputId": "f72c9b57-cc4f-44a6-a13f-2ea9cb7f09c5"
      },
      "source": [
        "df.iloc[[1,3],[0,2]]"
      ],
      "execution_count": null,
      "outputs": [
        {
          "output_type": "execute_result",
          "data": {
            "text/html": [
              "<div>\n",
              "<style scoped>\n",
              "    .dataframe tbody tr th:only-of-type {\n",
              "        vertical-align: middle;\n",
              "    }\n",
              "\n",
              "    .dataframe tbody tr th {\n",
              "        vertical-align: top;\n",
              "    }\n",
              "\n",
              "    .dataframe thead th {\n",
              "        text-align: right;\n",
              "    }\n",
              "</style>\n",
              "<table border=\"1\" class=\"dataframe\">\n",
              "  <thead>\n",
              "    <tr style=\"text-align: right;\">\n",
              "      <th></th>\n",
              "      <th>Estudiantes</th>\n",
              "      <th>NotasIA</th>\n",
              "    </tr>\n",
              "  </thead>\n",
              "  <tbody>\n",
              "    <tr>\n",
              "      <th>1</th>\n",
              "      <td>Ana Hernández</td>\n",
              "      <td>2.9</td>\n",
              "    </tr>\n",
              "    <tr>\n",
              "      <th>3</th>\n",
              "      <td>Juana González</td>\n",
              "      <td>4.5</td>\n",
              "    </tr>\n",
              "  </tbody>\n",
              "</table>\n",
              "</div>"
            ],
            "text/plain": [
              "      Estudiantes  NotasIA\n",
              "1   Ana Hernández      2.9\n",
              "3  Juana González      4.5"
            ]
          },
          "metadata": {
            "tags": []
          },
          "execution_count": 65
        }
      ]
    },
    {
      "cell_type": "markdown",
      "metadata": {
        "id": "PxB9VTdzRTWT"
      },
      "source": [
        "Se puede hacer cambios con iloc a unas posiciones específicas:\n",
        "Por ejemplo:Cambiar la nota de la fila 0 y 1 de IA"
      ]
    },
    {
      "cell_type": "code",
      "metadata": {
        "id": "EsSaMCTTRXZ-",
        "colab": {
          "base_uri": "https://localhost:8080/",
          "height": 250
        },
        "outputId": "f791c83b-8a45-4f9a-c4ca-06fb3f38a373"
      },
      "source": [
        "print(df)\n",
        "df.iloc[0:2,1]=[5,5]\n",
        "df"
      ],
      "execution_count": null,
      "outputs": [
        {
          "output_type": "stream",
          "text": [
            "      Estudiantes  NotasEDA  NotasIA\n",
            "0      Juan Pérez       5.0      4.3\n",
            "1   Ana Hernández       5.0      2.9\n",
            "2    Pedro García       2.0      5.0\n",
            "3  Juana González       5.0      4.5\n"
          ],
          "name": "stdout"
        },
        {
          "output_type": "execute_result",
          "data": {
            "text/html": [
              "<div>\n",
              "<style scoped>\n",
              "    .dataframe tbody tr th:only-of-type {\n",
              "        vertical-align: middle;\n",
              "    }\n",
              "\n",
              "    .dataframe tbody tr th {\n",
              "        vertical-align: top;\n",
              "    }\n",
              "\n",
              "    .dataframe thead th {\n",
              "        text-align: right;\n",
              "    }\n",
              "</style>\n",
              "<table border=\"1\" class=\"dataframe\">\n",
              "  <thead>\n",
              "    <tr style=\"text-align: right;\">\n",
              "      <th></th>\n",
              "      <th>Estudiantes</th>\n",
              "      <th>NotasEDA</th>\n",
              "      <th>NotasIA</th>\n",
              "    </tr>\n",
              "  </thead>\n",
              "  <tbody>\n",
              "    <tr>\n",
              "      <th>0</th>\n",
              "      <td>Juan Pérez</td>\n",
              "      <td>5.0</td>\n",
              "      <td>4.3</td>\n",
              "    </tr>\n",
              "    <tr>\n",
              "      <th>1</th>\n",
              "      <td>Ana Hernández</td>\n",
              "      <td>5.0</td>\n",
              "      <td>2.9</td>\n",
              "    </tr>\n",
              "    <tr>\n",
              "      <th>2</th>\n",
              "      <td>Pedro García</td>\n",
              "      <td>2.0</td>\n",
              "      <td>5.0</td>\n",
              "    </tr>\n",
              "    <tr>\n",
              "      <th>3</th>\n",
              "      <td>Juana González</td>\n",
              "      <td>5.0</td>\n",
              "      <td>4.5</td>\n",
              "    </tr>\n",
              "  </tbody>\n",
              "</table>\n",
              "</div>"
            ],
            "text/plain": [
              "      Estudiantes  NotasEDA  NotasIA\n",
              "0      Juan Pérez       5.0      4.3\n",
              "1   Ana Hernández       5.0      2.9\n",
              "2    Pedro García       2.0      5.0\n",
              "3  Juana González       5.0      4.5"
            ]
          },
          "metadata": {
            "tags": []
          },
          "execution_count": 56
        }
      ]
    },
    {
      "cell_type": "markdown",
      "metadata": {
        "id": "S2Z0gkl6Urn3"
      },
      "source": [
        "Seleccionando por una condición"
      ]
    },
    {
      "cell_type": "code",
      "metadata": {
        "id": "jQpwWCCaSu8S",
        "colab": {
          "base_uri": "https://localhost:8080/",
          "height": 136
        },
        "outputId": "c7631da0-dddb-4d84-800b-7e1ca99a0728"
      },
      "source": [
        "df.loc[df['NotasIA'] >= 4]"
      ],
      "execution_count": null,
      "outputs": [
        {
          "output_type": "execute_result",
          "data": {
            "text/html": [
              "<div>\n",
              "<style scoped>\n",
              "    .dataframe tbody tr th:only-of-type {\n",
              "        vertical-align: middle;\n",
              "    }\n",
              "\n",
              "    .dataframe tbody tr th {\n",
              "        vertical-align: top;\n",
              "    }\n",
              "\n",
              "    .dataframe thead th {\n",
              "        text-align: right;\n",
              "    }\n",
              "</style>\n",
              "<table border=\"1\" class=\"dataframe\">\n",
              "  <thead>\n",
              "    <tr style=\"text-align: right;\">\n",
              "      <th></th>\n",
              "      <th>Estudiantes</th>\n",
              "      <th>NotasEDA</th>\n",
              "      <th>NotasIA</th>\n",
              "    </tr>\n",
              "  </thead>\n",
              "  <tbody>\n",
              "    <tr>\n",
              "      <th>0</th>\n",
              "      <td>Juan Pérez</td>\n",
              "      <td>5.0</td>\n",
              "      <td>4.3</td>\n",
              "    </tr>\n",
              "    <tr>\n",
              "      <th>2</th>\n",
              "      <td>Pedro García</td>\n",
              "      <td>2.0</td>\n",
              "      <td>5.0</td>\n",
              "    </tr>\n",
              "    <tr>\n",
              "      <th>3</th>\n",
              "      <td>Juana González</td>\n",
              "      <td>5.0</td>\n",
              "      <td>4.5</td>\n",
              "    </tr>\n",
              "  </tbody>\n",
              "</table>\n",
              "</div>"
            ],
            "text/plain": [
              "      Estudiantes  NotasEDA  NotasIA\n",
              "0      Juan Pérez       5.0      4.3\n",
              "2    Pedro García       2.0      5.0\n",
              "3  Juana González       5.0      4.5"
            ]
          },
          "metadata": {
            "tags": []
          },
          "execution_count": 58
        }
      ]
    },
    {
      "cell_type": "markdown",
      "metadata": {
        "id": "2xKWcgFDUng7"
      },
      "source": [
        "Seleccionando por más de una condición"
      ]
    },
    {
      "cell_type": "code",
      "metadata": {
        "id": "4rWh2P--TEme",
        "colab": {
          "base_uri": "https://localhost:8080/",
          "height": 106
        },
        "outputId": "16610e80-1798-42dd-9755-8f3fa7c178de"
      },
      "source": [
        "df.loc[(df['NotasIA'] >= 4) & (df['NotasEDA']>=4)]"
      ],
      "execution_count": null,
      "outputs": [
        {
          "output_type": "execute_result",
          "data": {
            "text/html": [
              "<div>\n",
              "<style scoped>\n",
              "    .dataframe tbody tr th:only-of-type {\n",
              "        vertical-align: middle;\n",
              "    }\n",
              "\n",
              "    .dataframe tbody tr th {\n",
              "        vertical-align: top;\n",
              "    }\n",
              "\n",
              "    .dataframe thead th {\n",
              "        text-align: right;\n",
              "    }\n",
              "</style>\n",
              "<table border=\"1\" class=\"dataframe\">\n",
              "  <thead>\n",
              "    <tr style=\"text-align: right;\">\n",
              "      <th></th>\n",
              "      <th>Estudiantes</th>\n",
              "      <th>NotasEDA</th>\n",
              "      <th>NotasIA</th>\n",
              "    </tr>\n",
              "  </thead>\n",
              "  <tbody>\n",
              "    <tr>\n",
              "      <th>0</th>\n",
              "      <td>Juan Pérez</td>\n",
              "      <td>5.0</td>\n",
              "      <td>4.3</td>\n",
              "    </tr>\n",
              "    <tr>\n",
              "      <th>3</th>\n",
              "      <td>Juana González</td>\n",
              "      <td>5.0</td>\n",
              "      <td>4.5</td>\n",
              "    </tr>\n",
              "  </tbody>\n",
              "</table>\n",
              "</div>"
            ],
            "text/plain": [
              "      Estudiantes  NotasEDA  NotasIA\n",
              "0      Juan Pérez       5.0      4.3\n",
              "3  Juana González       5.0      4.5"
            ]
          },
          "metadata": {
            "tags": []
          },
          "execution_count": 59
        }
      ]
    },
    {
      "cell_type": "markdown",
      "metadata": {
        "id": "RsZdkCxvUMzB"
      },
      "source": [
        "Se pueden hacer actualizaciones por condición.\n",
        "Suponga que queremos cambiar la nota de EDA e IA para aquellos cuya nota de EDA sea 2, vamos a ponerle 3 en ambas"
      ]
    },
    {
      "cell_type": "code",
      "metadata": {
        "id": "3C1g3lFZULac",
        "colab": {
          "base_uri": "https://localhost:8080/",
          "height": 166
        },
        "outputId": "dd6052a1-2ced-47cd-9641-c7418a9a6ca5"
      },
      "source": [
        "df.loc[(df['NotasEDA'] ==2), ['NotasEDA', 'NotasIA']] = [3,3]\n",
        "df"
      ],
      "execution_count": null,
      "outputs": [
        {
          "output_type": "execute_result",
          "data": {
            "text/html": [
              "<div>\n",
              "<style scoped>\n",
              "    .dataframe tbody tr th:only-of-type {\n",
              "        vertical-align: middle;\n",
              "    }\n",
              "\n",
              "    .dataframe tbody tr th {\n",
              "        vertical-align: top;\n",
              "    }\n",
              "\n",
              "    .dataframe thead th {\n",
              "        text-align: right;\n",
              "    }\n",
              "</style>\n",
              "<table border=\"1\" class=\"dataframe\">\n",
              "  <thead>\n",
              "    <tr style=\"text-align: right;\">\n",
              "      <th></th>\n",
              "      <th>Estudiantes</th>\n",
              "      <th>NotasEDA</th>\n",
              "      <th>NotasIA</th>\n",
              "    </tr>\n",
              "  </thead>\n",
              "  <tbody>\n",
              "    <tr>\n",
              "      <th>0</th>\n",
              "      <td>Juan Pérez</td>\n",
              "      <td>5.0</td>\n",
              "      <td>4.3</td>\n",
              "    </tr>\n",
              "    <tr>\n",
              "      <th>1</th>\n",
              "      <td>Ana Hernández</td>\n",
              "      <td>5.0</td>\n",
              "      <td>2.9</td>\n",
              "    </tr>\n",
              "    <tr>\n",
              "      <th>2</th>\n",
              "      <td>Pedro García</td>\n",
              "      <td>3.0</td>\n",
              "      <td>3.0</td>\n",
              "    </tr>\n",
              "    <tr>\n",
              "      <th>3</th>\n",
              "      <td>Juana González</td>\n",
              "      <td>5.0</td>\n",
              "      <td>4.5</td>\n",
              "    </tr>\n",
              "  </tbody>\n",
              "</table>\n",
              "</div>"
            ],
            "text/plain": [
              "      Estudiantes  NotasEDA  NotasIA\n",
              "0      Juan Pérez       5.0      4.3\n",
              "1   Ana Hernández       5.0      2.9\n",
              "2    Pedro García       3.0      3.0\n",
              "3  Juana González       5.0      4.5"
            ]
          },
          "metadata": {
            "tags": []
          },
          "execution_count": 61
        }
      ]
    },
    {
      "cell_type": "markdown",
      "metadata": {
        "id": "UB5eOX91Ll9A"
      },
      "source": [
        "### Cargar datos desde un CSV\n",
        "\n",
        "Se puede cargar un conjunto de datos desde un csv:\n",
        "\n",
        "Por ejemplo"
      ]
    },
    {
      "cell_type": "code",
      "metadata": {
        "id": "LLcsRZ_KZDnN"
      },
      "source": [
        "iris=pd.read_csv('https://archive.ics.uci.edu/ml/machine-learning-databases/iris/iris.data', sep=',', header=None,names=[])"
      ],
      "execution_count": null,
      "outputs": []
    },
    {
      "cell_type": "code",
      "metadata": {
        "id": "liqSiC5IZ4ag",
        "colab": {
          "base_uri": "https://localhost:8080/",
          "height": 195
        },
        "outputId": "7249b42e-83dd-4b6b-c2a3-228f2ffaf964"
      },
      "source": [
        "iris.head()"
      ],
      "execution_count": null,
      "outputs": [
        {
          "output_type": "execute_result",
          "data": {
            "text/html": [
              "<div>\n",
              "<style scoped>\n",
              "    .dataframe tbody tr th:only-of-type {\n",
              "        vertical-align: middle;\n",
              "    }\n",
              "\n",
              "    .dataframe tbody tr th {\n",
              "        vertical-align: top;\n",
              "    }\n",
              "\n",
              "    .dataframe thead th {\n",
              "        text-align: right;\n",
              "    }\n",
              "</style>\n",
              "<table border=\"1\" class=\"dataframe\">\n",
              "  <thead>\n",
              "    <tr style=\"text-align: right;\">\n",
              "      <th></th>\n",
              "      <th>0</th>\n",
              "      <th>1</th>\n",
              "      <th>2</th>\n",
              "      <th>3</th>\n",
              "      <th>4</th>\n",
              "    </tr>\n",
              "  </thead>\n",
              "  <tbody>\n",
              "    <tr>\n",
              "      <th>0</th>\n",
              "      <td>5.1</td>\n",
              "      <td>3.5</td>\n",
              "      <td>1.4</td>\n",
              "      <td>0.2</td>\n",
              "      <td>Iris-setosa</td>\n",
              "    </tr>\n",
              "    <tr>\n",
              "      <th>1</th>\n",
              "      <td>4.9</td>\n",
              "      <td>3.0</td>\n",
              "      <td>1.4</td>\n",
              "      <td>0.2</td>\n",
              "      <td>Iris-setosa</td>\n",
              "    </tr>\n",
              "    <tr>\n",
              "      <th>2</th>\n",
              "      <td>4.7</td>\n",
              "      <td>3.2</td>\n",
              "      <td>1.3</td>\n",
              "      <td>0.2</td>\n",
              "      <td>Iris-setosa</td>\n",
              "    </tr>\n",
              "    <tr>\n",
              "      <th>3</th>\n",
              "      <td>4.6</td>\n",
              "      <td>3.1</td>\n",
              "      <td>1.5</td>\n",
              "      <td>0.2</td>\n",
              "      <td>Iris-setosa</td>\n",
              "    </tr>\n",
              "    <tr>\n",
              "      <th>4</th>\n",
              "      <td>5.0</td>\n",
              "      <td>3.6</td>\n",
              "      <td>1.4</td>\n",
              "      <td>0.2</td>\n",
              "      <td>Iris-setosa</td>\n",
              "    </tr>\n",
              "  </tbody>\n",
              "</table>\n",
              "</div>"
            ],
            "text/plain": [
              "     0    1    2    3            4\n",
              "0  5.1  3.5  1.4  0.2  Iris-setosa\n",
              "1  4.9  3.0  1.4  0.2  Iris-setosa\n",
              "2  4.7  3.2  1.3  0.2  Iris-setosa\n",
              "3  4.6  3.1  1.5  0.2  Iris-setosa\n",
              "4  5.0  3.6  1.4  0.2  Iris-setosa"
            ]
          },
          "metadata": {
            "tags": []
          },
          "execution_count": 71
        }
      ]
    },
    {
      "cell_type": "code",
      "metadata": {
        "id": "C794Kc0QLq9a",
        "colab": {
          "base_uri": "https://localhost:8080/",
          "height": 304
        },
        "outputId": "8db6b382-dbb5-49b3-cdd7-f4810e5a7845"
      },
      "source": [
        "california_housing_dataframe = pd.read_csv(\"https://download.mlcc.google.com/mledu-datasets/california_housing_train.csv\", sep=\",\")\n",
        "california_housing_dataframe.describe() # Estadísticos descriptivos de los datos"
      ],
      "execution_count": null,
      "outputs": [
        {
          "output_type": "execute_result",
          "data": {
            "text/html": [
              "<div>\n",
              "<style scoped>\n",
              "    .dataframe tbody tr th:only-of-type {\n",
              "        vertical-align: middle;\n",
              "    }\n",
              "\n",
              "    .dataframe tbody tr th {\n",
              "        vertical-align: top;\n",
              "    }\n",
              "\n",
              "    .dataframe thead th {\n",
              "        text-align: right;\n",
              "    }\n",
              "</style>\n",
              "<table border=\"1\" class=\"dataframe\">\n",
              "  <thead>\n",
              "    <tr style=\"text-align: right;\">\n",
              "      <th></th>\n",
              "      <th>longitude</th>\n",
              "      <th>latitude</th>\n",
              "      <th>housing_median_age</th>\n",
              "      <th>total_rooms</th>\n",
              "      <th>total_bedrooms</th>\n",
              "      <th>population</th>\n",
              "      <th>households</th>\n",
              "      <th>median_income</th>\n",
              "      <th>median_house_value</th>\n",
              "    </tr>\n",
              "  </thead>\n",
              "  <tbody>\n",
              "    <tr>\n",
              "      <th>count</th>\n",
              "      <td>17000.000000</td>\n",
              "      <td>17000.000000</td>\n",
              "      <td>17000.000000</td>\n",
              "      <td>17000.000000</td>\n",
              "      <td>17000.000000</td>\n",
              "      <td>17000.000000</td>\n",
              "      <td>17000.000000</td>\n",
              "      <td>17000.000000</td>\n",
              "      <td>17000.000000</td>\n",
              "    </tr>\n",
              "    <tr>\n",
              "      <th>mean</th>\n",
              "      <td>-119.562108</td>\n",
              "      <td>35.625225</td>\n",
              "      <td>28.589353</td>\n",
              "      <td>2643.664412</td>\n",
              "      <td>539.410824</td>\n",
              "      <td>1429.573941</td>\n",
              "      <td>501.221941</td>\n",
              "      <td>3.883578</td>\n",
              "      <td>207300.912353</td>\n",
              "    </tr>\n",
              "    <tr>\n",
              "      <th>std</th>\n",
              "      <td>2.005166</td>\n",
              "      <td>2.137340</td>\n",
              "      <td>12.586937</td>\n",
              "      <td>2179.947071</td>\n",
              "      <td>421.499452</td>\n",
              "      <td>1147.852959</td>\n",
              "      <td>384.520841</td>\n",
              "      <td>1.908157</td>\n",
              "      <td>115983.764387</td>\n",
              "    </tr>\n",
              "    <tr>\n",
              "      <th>min</th>\n",
              "      <td>-124.350000</td>\n",
              "      <td>32.540000</td>\n",
              "      <td>1.000000</td>\n",
              "      <td>2.000000</td>\n",
              "      <td>1.000000</td>\n",
              "      <td>3.000000</td>\n",
              "      <td>1.000000</td>\n",
              "      <td>0.499900</td>\n",
              "      <td>14999.000000</td>\n",
              "    </tr>\n",
              "    <tr>\n",
              "      <th>25%</th>\n",
              "      <td>-121.790000</td>\n",
              "      <td>33.930000</td>\n",
              "      <td>18.000000</td>\n",
              "      <td>1462.000000</td>\n",
              "      <td>297.000000</td>\n",
              "      <td>790.000000</td>\n",
              "      <td>282.000000</td>\n",
              "      <td>2.566375</td>\n",
              "      <td>119400.000000</td>\n",
              "    </tr>\n",
              "    <tr>\n",
              "      <th>50%</th>\n",
              "      <td>-118.490000</td>\n",
              "      <td>34.250000</td>\n",
              "      <td>29.000000</td>\n",
              "      <td>2127.000000</td>\n",
              "      <td>434.000000</td>\n",
              "      <td>1167.000000</td>\n",
              "      <td>409.000000</td>\n",
              "      <td>3.544600</td>\n",
              "      <td>180400.000000</td>\n",
              "    </tr>\n",
              "    <tr>\n",
              "      <th>75%</th>\n",
              "      <td>-118.000000</td>\n",
              "      <td>37.720000</td>\n",
              "      <td>37.000000</td>\n",
              "      <td>3151.250000</td>\n",
              "      <td>648.250000</td>\n",
              "      <td>1721.000000</td>\n",
              "      <td>605.250000</td>\n",
              "      <td>4.767000</td>\n",
              "      <td>265000.000000</td>\n",
              "    </tr>\n",
              "    <tr>\n",
              "      <th>max</th>\n",
              "      <td>-114.310000</td>\n",
              "      <td>41.950000</td>\n",
              "      <td>52.000000</td>\n",
              "      <td>37937.000000</td>\n",
              "      <td>6445.000000</td>\n",
              "      <td>35682.000000</td>\n",
              "      <td>6082.000000</td>\n",
              "      <td>15.000100</td>\n",
              "      <td>500001.000000</td>\n",
              "    </tr>\n",
              "  </tbody>\n",
              "</table>\n",
              "</div>"
            ],
            "text/plain": [
              "          longitude      latitude  ...  median_income  median_house_value\n",
              "count  17000.000000  17000.000000  ...   17000.000000        17000.000000\n",
              "mean    -119.562108     35.625225  ...       3.883578       207300.912353\n",
              "std        2.005166      2.137340  ...       1.908157       115983.764387\n",
              "min     -124.350000     32.540000  ...       0.499900        14999.000000\n",
              "25%     -121.790000     33.930000  ...       2.566375       119400.000000\n",
              "50%     -118.490000     34.250000  ...       3.544600       180400.000000\n",
              "75%     -118.000000     37.720000  ...       4.767000       265000.000000\n",
              "max     -114.310000     41.950000  ...      15.000100       500001.000000\n",
              "\n",
              "[8 rows x 9 columns]"
            ]
          },
          "metadata": {
            "tags": []
          },
          "execution_count": 29
        }
      ]
    },
    {
      "cell_type": "code",
      "metadata": {
        "id": "gpMuSoNQL5V-",
        "colab": {
          "base_uri": "https://localhost:8080/",
          "height": 274
        },
        "outputId": "69b2a14f-238b-44f7-c679-6574d4796f62"
      },
      "source": [
        "california_housing_dataframe.head(7) # las primeras 7 filas del DataFrame"
      ],
      "execution_count": null,
      "outputs": [
        {
          "output_type": "execute_result",
          "data": {
            "text/html": [
              "<div>\n",
              "<style scoped>\n",
              "    .dataframe tbody tr th:only-of-type {\n",
              "        vertical-align: middle;\n",
              "    }\n",
              "\n",
              "    .dataframe tbody tr th {\n",
              "        vertical-align: top;\n",
              "    }\n",
              "\n",
              "    .dataframe thead th {\n",
              "        text-align: right;\n",
              "    }\n",
              "</style>\n",
              "<table border=\"1\" class=\"dataframe\">\n",
              "  <thead>\n",
              "    <tr style=\"text-align: right;\">\n",
              "      <th></th>\n",
              "      <th>longitude</th>\n",
              "      <th>latitude</th>\n",
              "      <th>housing_median_age</th>\n",
              "      <th>total_rooms</th>\n",
              "      <th>total_bedrooms</th>\n",
              "      <th>population</th>\n",
              "      <th>households</th>\n",
              "      <th>median_income</th>\n",
              "      <th>median_house_value</th>\n",
              "    </tr>\n",
              "  </thead>\n",
              "  <tbody>\n",
              "    <tr>\n",
              "      <th>0</th>\n",
              "      <td>-114.31</td>\n",
              "      <td>34.19</td>\n",
              "      <td>15.0</td>\n",
              "      <td>5612.0</td>\n",
              "      <td>1283.0</td>\n",
              "      <td>1015.0</td>\n",
              "      <td>472.0</td>\n",
              "      <td>1.4936</td>\n",
              "      <td>66900.0</td>\n",
              "    </tr>\n",
              "    <tr>\n",
              "      <th>1</th>\n",
              "      <td>-114.47</td>\n",
              "      <td>34.40</td>\n",
              "      <td>19.0</td>\n",
              "      <td>7650.0</td>\n",
              "      <td>1901.0</td>\n",
              "      <td>1129.0</td>\n",
              "      <td>463.0</td>\n",
              "      <td>1.8200</td>\n",
              "      <td>80100.0</td>\n",
              "    </tr>\n",
              "    <tr>\n",
              "      <th>2</th>\n",
              "      <td>-114.56</td>\n",
              "      <td>33.69</td>\n",
              "      <td>17.0</td>\n",
              "      <td>720.0</td>\n",
              "      <td>174.0</td>\n",
              "      <td>333.0</td>\n",
              "      <td>117.0</td>\n",
              "      <td>1.6509</td>\n",
              "      <td>85700.0</td>\n",
              "    </tr>\n",
              "    <tr>\n",
              "      <th>3</th>\n",
              "      <td>-114.57</td>\n",
              "      <td>33.64</td>\n",
              "      <td>14.0</td>\n",
              "      <td>1501.0</td>\n",
              "      <td>337.0</td>\n",
              "      <td>515.0</td>\n",
              "      <td>226.0</td>\n",
              "      <td>3.1917</td>\n",
              "      <td>73400.0</td>\n",
              "    </tr>\n",
              "    <tr>\n",
              "      <th>4</th>\n",
              "      <td>-114.57</td>\n",
              "      <td>33.57</td>\n",
              "      <td>20.0</td>\n",
              "      <td>1454.0</td>\n",
              "      <td>326.0</td>\n",
              "      <td>624.0</td>\n",
              "      <td>262.0</td>\n",
              "      <td>1.9250</td>\n",
              "      <td>65500.0</td>\n",
              "    </tr>\n",
              "    <tr>\n",
              "      <th>5</th>\n",
              "      <td>-114.58</td>\n",
              "      <td>33.63</td>\n",
              "      <td>29.0</td>\n",
              "      <td>1387.0</td>\n",
              "      <td>236.0</td>\n",
              "      <td>671.0</td>\n",
              "      <td>239.0</td>\n",
              "      <td>3.3438</td>\n",
              "      <td>74000.0</td>\n",
              "    </tr>\n",
              "    <tr>\n",
              "      <th>6</th>\n",
              "      <td>-114.58</td>\n",
              "      <td>33.61</td>\n",
              "      <td>25.0</td>\n",
              "      <td>2907.0</td>\n",
              "      <td>680.0</td>\n",
              "      <td>1841.0</td>\n",
              "      <td>633.0</td>\n",
              "      <td>2.6768</td>\n",
              "      <td>82400.0</td>\n",
              "    </tr>\n",
              "  </tbody>\n",
              "</table>\n",
              "</div>"
            ],
            "text/plain": [
              "   longitude  latitude  ...  median_income  median_house_value\n",
              "0    -114.31     34.19  ...         1.4936             66900.0\n",
              "1    -114.47     34.40  ...         1.8200             80100.0\n",
              "2    -114.56     33.69  ...         1.6509             85700.0\n",
              "3    -114.57     33.64  ...         3.1917             73400.0\n",
              "4    -114.57     33.57  ...         1.9250             65500.0\n",
              "5    -114.58     33.63  ...         3.3438             74000.0\n",
              "6    -114.58     33.61  ...         2.6768             82400.0\n",
              "\n",
              "[7 rows x 9 columns]"
            ]
          },
          "metadata": {
            "tags": []
          },
          "execution_count": 67
        }
      ]
    }
  ]
}